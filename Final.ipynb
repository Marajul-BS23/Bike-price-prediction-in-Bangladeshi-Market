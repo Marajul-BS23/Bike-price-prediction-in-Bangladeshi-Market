{
 "cells": [
  {
   "cell_type": "markdown",
   "id": "6ec9cd1e",
   "metadata": {},
   "source": [
    "## import Library"
   ]
  },
  {
   "cell_type": "code",
   "execution_count": 1,
   "id": "296635ad",
   "metadata": {},
   "outputs": [],
   "source": [
    "import bs4 as bs\n",
    "import urllib.request\n",
    "import pandas as pd\n",
    "import numpy as np\n",
    "import pandas as pd\n",
    "from matplotlib import pyplot as plt\n",
    "import seaborn as sns\n",
    "from sklearn.preprocessing import MinMaxScaler\n",
    "from sklearn.model_selection import train_test_split, cross_val_score,GridSearchCV\n",
    "from sklearn.linear_model import LinearRegression,Ridge,Lasso\n",
    "from sklearn.neighbors import KNeighborsRegressor\n",
    "from sklearn.svm import SVR\n",
    "from sklearn.ensemble import RandomForestRegressor\n",
    "from sklearn.metrics import mean_squared_error,r2_score\n",
    "import joblib\n",
    "from xgboost import XGBRegressor"
   ]
  },
  {
   "cell_type": "markdown",
   "id": "d59b1613",
   "metadata": {},
   "source": [
    "# Data Collection"
   ]
  },
  {
   "cell_type": "code",
   "execution_count": 6,
   "id": "f86f2ca9",
   "metadata": {},
   "outputs": [],
   "source": [
    "def init_soup(url):\n",
    "    hdr = {'User-Agent': 'Mozilla/5.0 (X11; Linux x86_64) AppleWebKit/537.11 (KHTML, like Gecko) Chrome/23.0.1271.64 Safari/537.11',\n",
    "           'Accept': 'text/html,application/xhtml+xml,application/xml;q=0.9,*/*;q=0.8',\n",
    "           'Accept-Charset': 'ISO-8859-1,utf-8;q=0.7,*;q=0.3',\n",
    "           'Accept-Encoding': 'none',\n",
    "           'Accept-Language': 'en-US,en;q=0.8',\n",
    "           'Connection': 'keep-alive'}\n",
    "    request=urllib.request.Request(url,None,hdr)\n",
    "    source = urllib.request.urlopen(request).read()\n",
    "    soup = bs.BeautifulSoup(source,'lxml')\n",
    "    return soup\n",
    "\n",
    "def store_url(url):\n",
    "    soup = init_soup(url)\n",
    "    links = soup.find_all(\"a\", {\"class\": \"gtm-ad-item\"})\n",
    "#     print(len(links))\n",
    "    list = []\n",
    "    for link in links:\n",
    "#         print(link['href'])\n",
    "        list.append(\"https://bikroy.com\"+link['href'])\n",
    "    return list\n",
    "\n",
    "\n",
    "\n",
    "def store_data(url):\n",
    "    soup = init_soup(url)\n",
    "    \n",
    "    title = soup.find(\"h1\",{\"class\": \"title--3s1R8\"})\n",
    "    price = soup.find(\"div\",{\"class\": \"amount--3NTpl\"})\n",
    "    links = soup.find_all(\"div\", {\"class\": \"value--1lKHt\"})\n",
    "    list = []\n",
    "    list.append(url)\n",
    "    list.append(title.text)\n",
    "    \n",
    "    if(len(links)==7):\n",
    "        list.append(links[0].text)\n",
    "        list.append(links[1].text)\n",
    "        list.append(links[2].text)\n",
    "        list.append(\".\")\n",
    "        list.append(links[3].text)\n",
    "        list.append(links[4].text)\n",
    "        list.append(links[5].text)\n",
    "        list.append(links[6].text)\n",
    "        \n",
    "    elif(len(links)==8):\n",
    "        list.append(links[0].text)\n",
    "        list.append(links[1].text)\n",
    "        list.append(links[2].text)\n",
    "        list.append(links[3].text)\n",
    "        list.append(links[4].text)\n",
    "        list.append(links[5].text)\n",
    "        list.append(links[6].text)\n",
    "        list.append(links[7].text)\n",
    "    list.append(price.text)\n",
    "        \n",
    "    return list\n",
    "\n",
    "def call_url_store():\n",
    "    all_url = []\n",
    "    for x in range(59,100):\n",
    "        new_urls = store_url(\"https://bikroy.com/en/ads/bangladesh/motorbikes-scooters?sort=date&order=desc&buy_now=0&urgent=0&page=\"+(str)(x))\n",
    "        all_url.extend(new_urls)\n",
    "        print(x,end=' ')\n",
    "    \n",
    "    \n",
    "    df = pd.DataFrame({'col':all_url})\n",
    "    df.to_csv('file.csv')\n",
    "    print(\"OK\")"
   ]
  },
  {
   "cell_type": "markdown",
   "id": "2ccfb9de",
   "metadata": {},
   "source": [
    "### Test Function of scrapping"
   ]
  },
  {
   "cell_type": "code",
   "execution_count": 7,
   "id": "e5b69bfe",
   "metadata": {},
   "outputs": [
    {
     "data": {
      "text/plain": [
       "['https://bikroy.com/en/ad/bajaj-pulsar-2019-for-sale-dhaka-713',\n",
       " 'Bajaj Pulsar . 2019',\n",
       " 'Motorcycle',\n",
       " 'Bajaj',\n",
       " 'Pulsar',\n",
       " '.',\n",
       " '2019',\n",
       " 'Used',\n",
       " '150 cc',\n",
       " '4,100 km',\n",
       " 'Tk 167,500']"
      ]
     },
     "execution_count": 7,
     "metadata": {},
     "output_type": "execute_result"
    }
   ],
   "source": [
    "store_data(\"https://bikroy.com/en/ad/yamaha-fazer-2017-for-sale-dhaka-587\")"
   ]
  },
  {
   "cell_type": "code",
   "execution_count": 259,
   "id": "878d88eb",
   "metadata": {},
   "outputs": [
    {
     "name": "stdout",
     "output_type": "stream",
     "text": [
      "Store data successfully\n"
     ]
    }
   ],
   "source": [
    "def save_data():\n",
    "    all_data = []\n",
    "    url_file = pd.read_csv(\"file.csv\")\n",
    "    error_file = open('error_file.txt','w')\n",
    "    url_list = url_file['col'].tolist()\n",
    "    cnt = 0\n",
    "    for url in range(1,20000):\n",
    "        try:\n",
    "            lst = store_data(url_list[url])\n",
    "            all_data.append(lst)\n",
    "            print(url, end=' ')\n",
    "        except:\n",
    "            error_file.write(url_list[url]+\"\\n\")\n",
    "    error_file.close()\n",
    "    df = pd.DataFrame(all_data)\n",
    "    df.columns =['url','name','bike','brand','model','Trim / Edition','Year of Manufacture','Condition','Engine capacity','Kilometers run','price']\n",
    "    df.to_csv('dataset2.csv',index=False)\n",
    "        \n",
    "    \n",
    "\n",
    "save_data()"
   ]
  },
  {
   "cell_type": "markdown",
   "id": "c2b7881e",
   "metadata": {},
   "source": [
    "## Data Clenning"
   ]
  },
  {
   "cell_type": "code",
   "execution_count": 385,
   "id": "0ea5fb21",
   "metadata": {},
   "outputs": [
    {
     "data": {
      "text/html": [
       "<div>\n",
       "<style scoped>\n",
       "    .dataframe tbody tr th:only-of-type {\n",
       "        vertical-align: middle;\n",
       "    }\n",
       "\n",
       "    .dataframe tbody tr th {\n",
       "        vertical-align: top;\n",
       "    }\n",
       "\n",
       "    .dataframe thead th {\n",
       "        text-align: right;\n",
       "    }\n",
       "</style>\n",
       "<table border=\"1\" class=\"dataframe\">\n",
       "  <thead>\n",
       "    <tr style=\"text-align: right;\">\n",
       "      <th></th>\n",
       "      <th>url</th>\n",
       "      <th>name</th>\n",
       "      <th>bike</th>\n",
       "      <th>brand</th>\n",
       "      <th>model</th>\n",
       "      <th>Trim / Edition</th>\n",
       "      <th>Year of Manufacture</th>\n",
       "      <th>Condition</th>\n",
       "      <th>Engine capacity</th>\n",
       "      <th>Kilometers run</th>\n",
       "      <th>price</th>\n",
       "    </tr>\n",
       "  </thead>\n",
       "  <tbody>\n",
       "    <tr>\n",
       "      <th>0</th>\n",
       "      <td>https://bikroy.com/en/ad/aprilia-gpr-150-as-li...</td>\n",
       "      <td>Aprilia GPR 150 As-Like New Bike 2021</td>\n",
       "      <td>Motorcycle</td>\n",
       "      <td>Aprilia</td>\n",
       "      <td>GPR 150</td>\n",
       "      <td>As-Like New Bike</td>\n",
       "      <td>2021</td>\n",
       "      <td>Used</td>\n",
       "      <td>150 cc</td>\n",
       "      <td>2,800 km</td>\n",
       "      <td>Tk 197,000</td>\n",
       "    </tr>\n",
       "    <tr>\n",
       "      <th>1</th>\n",
       "      <td>https://bikroy.com/en/ad/bajaj-aspire-phruk-mo...</td>\n",
       "      <td>Bajaj Aspire ফরুক মোটরস 2017</td>\n",
       "      <td>Motorcycle</td>\n",
       "      <td>Bajaj</td>\n",
       "      <td>Aspire</td>\n",
       "      <td>NaN</td>\n",
       "      <td>2017</td>\n",
       "      <td>Used</td>\n",
       "      <td>150 cc</td>\n",
       "      <td>22,000 km</td>\n",
       "      <td>Tk 122,000</td>\n",
       "    </tr>\n",
       "    <tr>\n",
       "      <th>2</th>\n",
       "      <td>https://bikroy.com/en/ad/bajaj-ct-100-1-2011-f...</td>\n",
       "      <td>Bajaj CT 100 . 2011</td>\n",
       "      <td>Motorcycle</td>\n",
       "      <td>Bajaj</td>\n",
       "      <td>CT 100</td>\n",
       "      <td>.</td>\n",
       "      <td>2011</td>\n",
       "      <td>Used</td>\n",
       "      <td>100 cc</td>\n",
       "      <td>26,759 km</td>\n",
       "      <td>Tk 65,000</td>\n",
       "    </tr>\n",
       "    <tr>\n",
       "      <th>3</th>\n",
       "      <td>https://bikroy.com/en/ad/bajaj-discover-100cc-...</td>\n",
       "      <td>Bajaj Discover 100cc 2017</td>\n",
       "      <td>Motorcycle</td>\n",
       "      <td>Bajaj</td>\n",
       "      <td>Discover</td>\n",
       "      <td>100cc</td>\n",
       "      <td>2017</td>\n",
       "      <td>Used</td>\n",
       "      <td>100 cc</td>\n",
       "      <td>22,500 km</td>\n",
       "      <td>Tk 37,000</td>\n",
       "    </tr>\n",
       "    <tr>\n",
       "      <th>4</th>\n",
       "      <td>https://bikroy.com/en/ad/bajaj-discover-phruk-...</td>\n",
       "      <td>Bajaj Discover ফরুক মোটরস 2015</td>\n",
       "      <td>Motorcycle</td>\n",
       "      <td>Bajaj</td>\n",
       "      <td>Discover</td>\n",
       "      <td>NaN</td>\n",
       "      <td>2015</td>\n",
       "      <td>Used</td>\n",
       "      <td>100 cc</td>\n",
       "      <td>33,000 km</td>\n",
       "      <td>Tk 58,000</td>\n",
       "    </tr>\n",
       "  </tbody>\n",
       "</table>\n",
       "</div>"
      ],
      "text/plain": [
       "                                                 url  \\\n",
       "0  https://bikroy.com/en/ad/aprilia-gpr-150-as-li...   \n",
       "1  https://bikroy.com/en/ad/bajaj-aspire-phruk-mo...   \n",
       "2  https://bikroy.com/en/ad/bajaj-ct-100-1-2011-f...   \n",
       "3  https://bikroy.com/en/ad/bajaj-discover-100cc-...   \n",
       "4  https://bikroy.com/en/ad/bajaj-discover-phruk-...   \n",
       "\n",
       "                                    name        bike    brand     model  \\\n",
       "0  Aprilia GPR 150 As-Like New Bike 2021  Motorcycle  Aprilia   GPR 150   \n",
       "1           Bajaj Aspire ফরুক মোটরস 2017  Motorcycle    Bajaj    Aspire   \n",
       "2                    Bajaj CT 100 . 2011  Motorcycle    Bajaj    CT 100   \n",
       "3              Bajaj Discover 100cc 2017  Motorcycle    Bajaj  Discover   \n",
       "4         Bajaj Discover ফরুক মোটরস 2015  Motorcycle    Bajaj  Discover   \n",
       "\n",
       "     Trim / Edition  Year of Manufacture Condition Engine capacity  \\\n",
       "0  As-Like New Bike                 2021      Used          150 cc   \n",
       "1               NaN                 2017      Used          150 cc   \n",
       "2                 .                 2011      Used          100 cc   \n",
       "3             100cc                 2017      Used          100 cc   \n",
       "4               NaN                 2015      Used          100 cc   \n",
       "\n",
       "  Kilometers run       price  \n",
       "0       2,800 km  Tk 197,000  \n",
       "1      22,000 km  Tk 122,000  \n",
       "2      26,759 km   Tk 65,000  \n",
       "3      22,500 km   Tk 37,000  \n",
       "4      33,000 km   Tk 58,000  "
      ]
     },
     "execution_count": 385,
     "metadata": {},
     "output_type": "execute_result"
    }
   ],
   "source": [
    "df = pd.read_csv('dataset.csv')\n",
    "\n",
    "df.head()"
   ]
  },
  {
   "cell_type": "code",
   "execution_count": 386,
   "id": "f844c3a4",
   "metadata": {},
   "outputs": [
    {
     "data": {
      "text/html": [
       "<div>\n",
       "<style scoped>\n",
       "    .dataframe tbody tr th:only-of-type {\n",
       "        vertical-align: middle;\n",
       "    }\n",
       "\n",
       "    .dataframe tbody tr th {\n",
       "        vertical-align: top;\n",
       "    }\n",
       "\n",
       "    .dataframe thead th {\n",
       "        text-align: right;\n",
       "    }\n",
       "</style>\n",
       "<table border=\"1\" class=\"dataframe\">\n",
       "  <thead>\n",
       "    <tr style=\"text-align: right;\">\n",
       "      <th></th>\n",
       "      <th>Year of Manufacture</th>\n",
       "    </tr>\n",
       "  </thead>\n",
       "  <tbody>\n",
       "    <tr>\n",
       "      <th>count</th>\n",
       "      <td>2063.000000</td>\n",
       "    </tr>\n",
       "    <tr>\n",
       "      <th>mean</th>\n",
       "      <td>2016.267087</td>\n",
       "    </tr>\n",
       "    <tr>\n",
       "      <th>std</th>\n",
       "      <td>5.574286</td>\n",
       "    </tr>\n",
       "    <tr>\n",
       "      <th>min</th>\n",
       "      <td>1972.000000</td>\n",
       "    </tr>\n",
       "    <tr>\n",
       "      <th>25%</th>\n",
       "      <td>2015.000000</td>\n",
       "    </tr>\n",
       "    <tr>\n",
       "      <th>50%</th>\n",
       "      <td>2018.000000</td>\n",
       "    </tr>\n",
       "    <tr>\n",
       "      <th>75%</th>\n",
       "      <td>2020.000000</td>\n",
       "    </tr>\n",
       "    <tr>\n",
       "      <th>max</th>\n",
       "      <td>2023.000000</td>\n",
       "    </tr>\n",
       "  </tbody>\n",
       "</table>\n",
       "</div>"
      ],
      "text/plain": [
       "       Year of Manufacture\n",
       "count          2063.000000\n",
       "mean           2016.267087\n",
       "std               5.574286\n",
       "min            1972.000000\n",
       "25%            2015.000000\n",
       "50%            2018.000000\n",
       "75%            2020.000000\n",
       "max            2023.000000"
      ]
     },
     "execution_count": 386,
     "metadata": {},
     "output_type": "execute_result"
    }
   ],
   "source": [
    "\n",
    "df.describe()"
   ]
  },
  {
   "cell_type": "code",
   "execution_count": 387,
   "id": "4c4f153e",
   "metadata": {},
   "outputs": [
    {
     "name": "stdout",
     "output_type": "stream",
     "text": [
      "<class 'pandas.core.frame.DataFrame'>\n",
      "RangeIndex: 2063 entries, 0 to 2062\n",
      "Data columns (total 11 columns):\n",
      " #   Column               Non-Null Count  Dtype \n",
      "---  ------               --------------  ----- \n",
      " 0   url                  2063 non-null   object\n",
      " 1   name                 2063 non-null   object\n",
      " 2   bike                 2063 non-null   object\n",
      " 3   brand                2063 non-null   object\n",
      " 4   model                2063 non-null   object\n",
      " 5   Trim / Edition       2028 non-null   object\n",
      " 6   Year of Manufacture  2063 non-null   int64 \n",
      " 7   Condition            2063 non-null   object\n",
      " 8   Engine capacity      2063 non-null   object\n",
      " 9   Kilometers run       2063 non-null   object\n",
      " 10  price                2063 non-null   object\n",
      "dtypes: int64(1), object(10)\n",
      "memory usage: 177.4+ KB\n"
     ]
    }
   ],
   "source": [
    "df.info()"
   ]
  },
  {
   "cell_type": "code",
   "execution_count": 388,
   "id": "04c6d189",
   "metadata": {},
   "outputs": [
    {
     "data": {
      "text/plain": [
       "(2063, 11)"
      ]
     },
     "execution_count": 388,
     "metadata": {},
     "output_type": "execute_result"
    }
   ],
   "source": [
    "df.shape"
   ]
  },
  {
   "cell_type": "code",
   "execution_count": 389,
   "id": "10052e8e",
   "metadata": {},
   "outputs": [],
   "source": [
    "df.drop(['url','bike','name','Trim / Edition','Condition'],axis=1,inplace=True)"
   ]
  },
  {
   "cell_type": "code",
   "execution_count": 390,
   "id": "62f40a99",
   "metadata": {},
   "outputs": [
    {
     "data": {
      "text/html": [
       "<div>\n",
       "<style scoped>\n",
       "    .dataframe tbody tr th:only-of-type {\n",
       "        vertical-align: middle;\n",
       "    }\n",
       "\n",
       "    .dataframe tbody tr th {\n",
       "        vertical-align: top;\n",
       "    }\n",
       "\n",
       "    .dataframe thead th {\n",
       "        text-align: right;\n",
       "    }\n",
       "</style>\n",
       "<table border=\"1\" class=\"dataframe\">\n",
       "  <thead>\n",
       "    <tr style=\"text-align: right;\">\n",
       "      <th></th>\n",
       "      <th>brand</th>\n",
       "      <th>model</th>\n",
       "      <th>Year of Manufacture</th>\n",
       "      <th>Engine capacity</th>\n",
       "      <th>Kilometers run</th>\n",
       "      <th>price</th>\n",
       "    </tr>\n",
       "  </thead>\n",
       "  <tbody>\n",
       "    <tr>\n",
       "      <th>0</th>\n",
       "      <td>Aprilia</td>\n",
       "      <td>GPR 150</td>\n",
       "      <td>2021</td>\n",
       "      <td>150 cc</td>\n",
       "      <td>2,800 km</td>\n",
       "      <td>Tk 197,000</td>\n",
       "    </tr>\n",
       "    <tr>\n",
       "      <th>1</th>\n",
       "      <td>Bajaj</td>\n",
       "      <td>Aspire</td>\n",
       "      <td>2017</td>\n",
       "      <td>150 cc</td>\n",
       "      <td>22,000 km</td>\n",
       "      <td>Tk 122,000</td>\n",
       "    </tr>\n",
       "    <tr>\n",
       "      <th>2</th>\n",
       "      <td>Bajaj</td>\n",
       "      <td>CT 100</td>\n",
       "      <td>2011</td>\n",
       "      <td>100 cc</td>\n",
       "      <td>26,759 km</td>\n",
       "      <td>Tk 65,000</td>\n",
       "    </tr>\n",
       "    <tr>\n",
       "      <th>3</th>\n",
       "      <td>Bajaj</td>\n",
       "      <td>Discover</td>\n",
       "      <td>2017</td>\n",
       "      <td>100 cc</td>\n",
       "      <td>22,500 km</td>\n",
       "      <td>Tk 37,000</td>\n",
       "    </tr>\n",
       "    <tr>\n",
       "      <th>4</th>\n",
       "      <td>Bajaj</td>\n",
       "      <td>Discover</td>\n",
       "      <td>2015</td>\n",
       "      <td>100 cc</td>\n",
       "      <td>33,000 km</td>\n",
       "      <td>Tk 58,000</td>\n",
       "    </tr>\n",
       "  </tbody>\n",
       "</table>\n",
       "</div>"
      ],
      "text/plain": [
       "     brand     model  Year of Manufacture Engine capacity Kilometers run  \\\n",
       "0  Aprilia   GPR 150                 2021          150 cc       2,800 km   \n",
       "1    Bajaj    Aspire                 2017          150 cc      22,000 km   \n",
       "2    Bajaj    CT 100                 2011          100 cc      26,759 km   \n",
       "3    Bajaj  Discover                 2017          100 cc      22,500 km   \n",
       "4    Bajaj  Discover                 2015          100 cc      33,000 km   \n",
       "\n",
       "        price  \n",
       "0  Tk 197,000  \n",
       "1  Tk 122,000  \n",
       "2   Tk 65,000  \n",
       "3   Tk 37,000  \n",
       "4   Tk 58,000  "
      ]
     },
     "execution_count": 390,
     "metadata": {},
     "output_type": "execute_result"
    }
   ],
   "source": [
    "df.head()"
   ]
  },
  {
   "cell_type": "markdown",
   "id": "1ecb322e",
   "metadata": {},
   "source": [
    "## Co -relation matrics"
   ]
  },
  {
   "cell_type": "code",
   "execution_count": 391,
   "id": "d45dca30",
   "metadata": {},
   "outputs": [],
   "source": [
    "def corr_heatmap(data_frame, size=11):\n",
    "  # Getting correlation using Pandas\n",
    "  correlation = data_frame.corr()\n",
    "\n",
    "  # Dividing the plot into subplots for increasing size of plots\n",
    "  fig, heatmap = plt.subplots(figsize=(size, size))\n",
    "\n",
    "  # Plotting the correlation heatmap\n",
    "  heatmap.matshow(correlation)\n",
    "\n",
    "  # Adding xticks and yticks\n",
    "  plt.xticks(range(len(correlation.columns)), correlation.columns)\n",
    "  plt.yticks(range(len(correlation.columns)), correlation.columns)\n",
    "\n",
    "  # Displaying the graph\n",
    "  plt.show()\n"
   ]
  },
  {
   "cell_type": "markdown",
   "id": "67145fe8",
   "metadata": {},
   "source": [
    "## remove unwanted carecter from price and capicity and price collumn "
   ]
  },
  {
   "cell_type": "code",
   "execution_count": 392,
   "id": "55df1323",
   "metadata": {},
   "outputs": [],
   "source": [
    "def shape_power(st):\n",
    "    st = st.strip()\n",
    "    st = st[:-2]\n",
    "    ab = st.split(',')\n",
    "    value = ''.join(ab)\n",
    "    return int(value)\n",
    "def shape_run(st):\n",
    "    st = st.strip()\n",
    "    st = st[:-3]\n",
    "    ab = st.split(',')\n",
    "    value = ''.join(ab)\n",
    "    return int(value)\n",
    "\n",
    "def shape_price(st):\n",
    "    st = st.strip()\n",
    "    st = st[3:]\n",
    "    ab = st.split(',')\n",
    "    value = ''.join(ab)\n",
    "    return int(value)\n",
    "\n"
   ]
  },
  {
   "cell_type": "code",
   "execution_count": 393,
   "id": "82fae73d",
   "metadata": {},
   "outputs": [],
   "source": [
    "df['Engine capacity'] = df['Engine capacity'].apply(shape_power)\n",
    "df['Kilometers run'] = df['Kilometers run'].apply(shape_run)\n",
    "df['price'] = df['price'].apply(shape_price)"
   ]
  },
  {
   "cell_type": "code",
   "execution_count": 394,
   "id": "6e86959b",
   "metadata": {},
   "outputs": [
    {
     "data": {
      "text/html": [
       "<div>\n",
       "<style scoped>\n",
       "    .dataframe tbody tr th:only-of-type {\n",
       "        vertical-align: middle;\n",
       "    }\n",
       "\n",
       "    .dataframe tbody tr th {\n",
       "        vertical-align: top;\n",
       "    }\n",
       "\n",
       "    .dataframe thead th {\n",
       "        text-align: right;\n",
       "    }\n",
       "</style>\n",
       "<table border=\"1\" class=\"dataframe\">\n",
       "  <thead>\n",
       "    <tr style=\"text-align: right;\">\n",
       "      <th></th>\n",
       "      <th>brand</th>\n",
       "      <th>model</th>\n",
       "      <th>Year of Manufacture</th>\n",
       "      <th>Engine capacity</th>\n",
       "      <th>Kilometers run</th>\n",
       "      <th>price</th>\n",
       "    </tr>\n",
       "  </thead>\n",
       "  <tbody>\n",
       "    <tr>\n",
       "      <th>0</th>\n",
       "      <td>Aprilia</td>\n",
       "      <td>GPR 150</td>\n",
       "      <td>2021</td>\n",
       "      <td>150</td>\n",
       "      <td>2800</td>\n",
       "      <td>197000</td>\n",
       "    </tr>\n",
       "    <tr>\n",
       "      <th>1</th>\n",
       "      <td>Bajaj</td>\n",
       "      <td>Aspire</td>\n",
       "      <td>2017</td>\n",
       "      <td>150</td>\n",
       "      <td>22000</td>\n",
       "      <td>122000</td>\n",
       "    </tr>\n",
       "    <tr>\n",
       "      <th>2</th>\n",
       "      <td>Bajaj</td>\n",
       "      <td>CT 100</td>\n",
       "      <td>2011</td>\n",
       "      <td>100</td>\n",
       "      <td>26759</td>\n",
       "      <td>65000</td>\n",
       "    </tr>\n",
       "    <tr>\n",
       "      <th>3</th>\n",
       "      <td>Bajaj</td>\n",
       "      <td>Discover</td>\n",
       "      <td>2017</td>\n",
       "      <td>100</td>\n",
       "      <td>22500</td>\n",
       "      <td>37000</td>\n",
       "    </tr>\n",
       "    <tr>\n",
       "      <th>4</th>\n",
       "      <td>Bajaj</td>\n",
       "      <td>Discover</td>\n",
       "      <td>2015</td>\n",
       "      <td>100</td>\n",
       "      <td>33000</td>\n",
       "      <td>58000</td>\n",
       "    </tr>\n",
       "  </tbody>\n",
       "</table>\n",
       "</div>"
      ],
      "text/plain": [
       "     brand     model  Year of Manufacture  Engine capacity  Kilometers run  \\\n",
       "0  Aprilia   GPR 150                 2021              150            2800   \n",
       "1    Bajaj    Aspire                 2017              150           22000   \n",
       "2    Bajaj    CT 100                 2011              100           26759   \n",
       "3    Bajaj  Discover                 2017              100           22500   \n",
       "4    Bajaj  Discover                 2015              100           33000   \n",
       "\n",
       "    price  \n",
       "0  197000  \n",
       "1  122000  \n",
       "2   65000  \n",
       "3   37000  \n",
       "4   58000  "
      ]
     },
     "execution_count": 394,
     "metadata": {},
     "output_type": "execute_result"
    }
   ],
   "source": [
    "df.head()"
   ]
  },
  {
   "cell_type": "markdown",
   "id": "48153acf",
   "metadata": {},
   "source": [
    "### Make bike brand = others Who's elements is less than 10"
   ]
  },
  {
   "cell_type": "code",
   "execution_count": 395,
   "id": "7e443783",
   "metadata": {},
   "outputs": [
    {
     "data": {
      "text/plain": [
       "Bajaj              459\n",
       "TVS                353\n",
       "Yamaha             288\n",
       "Hero               246\n",
       "Suzuki             194\n",
       "Honda              149\n",
       "Runner              84\n",
       "Walton              38\n",
       "Keeway              25\n",
       "Other brand         18\n",
       "H Power             17\n",
       "Mahindra            14\n",
       "LML                 13\n",
       "Dayun               13\n",
       "Dayang              13\n",
       "Lifan               12\n",
       "Roadmaster          11\n",
       "Regal Raptor        11\n",
       "Dayang Runner       10\n",
       "Haojue               8\n",
       "Singer               5\n",
       "Victor-R             5\n",
       "Freedom              5\n",
       "Aprilia              5\n",
       "Xingfu               5\n",
       "Zaara                4\n",
       "Zongshen             4\n",
       "Emma                 4\n",
       "Benelli              4\n",
       "SYM                  4\n",
       "Pegasus              4\n",
       "KTM                  3\n",
       "Beetle Bolt          3\n",
       "ZNEN                 3\n",
       "Freedom Runner       3\n",
       "Power                3\n",
       "Taro                 3\n",
       "Hyosung              2\n",
       "Jialing              2\n",
       "Green Tiger          2\n",
       "PHP                  2\n",
       "Haojin               2\n",
       "Butterfly            1\n",
       "Kinlon               1\n",
       "Harley-Davidson      1\n",
       "Vespa                1\n",
       "Maxton               1\n",
       "Exploit              1\n",
       "Sinski               1\n",
       "CZ                   1\n",
       "Lexmoto              1\n",
       "Jamuna               1\n",
       "Name: brand, dtype: int64"
      ]
     },
     "execution_count": 395,
     "metadata": {},
     "output_type": "execute_result"
    }
   ],
   "source": [
    "df['brand'].value_counts()"
   ]
  },
  {
   "cell_type": "code",
   "execution_count": 396,
   "id": "17e968bf",
   "metadata": {},
   "outputs": [
    {
     "data": {
      "image/png": "[encoded data removed]",
      "text/plain": [
       "<Figure size 432x288 with 1 Axes>"
      ]
     },
     "metadata": {
      "needs_background": "light"
     },
     "output_type": "display_data"
    }
   ],
   "source": [
    "df['brand'].value_counts().plot(kind=\"barh\")\n",
    "plt.gca().invert_yaxis()\n",
    "plt.show()"
   ]
  },
  {
   "cell_type": "code",
   "execution_count": 397,
   "id": "eecac3d2",
   "metadata": {},
   "outputs": [
    {
     "data": {
      "text/plain": [
       "Dayang Runner      10\n",
       "Haojue              8\n",
       "Singer              5\n",
       "Victor-R            5\n",
       "Freedom             5\n",
       "Aprilia             5\n",
       "Xingfu              5\n",
       "Zaara               4\n",
       "Zongshen            4\n",
       "Emma                4\n",
       "Benelli             4\n",
       "SYM                 4\n",
       "Pegasus             4\n",
       "KTM                 3\n",
       "Beetle Bolt         3\n",
       "ZNEN                3\n",
       "Freedom Runner      3\n",
       "Power               3\n",
       "Taro                3\n",
       "Hyosung             2\n",
       "Jialing             2\n",
       "Green Tiger         2\n",
       "PHP                 2\n",
       "Haojin              2\n",
       "Butterfly           1\n",
       "Kinlon              1\n",
       "Harley-Davidson     1\n",
       "Vespa               1\n",
       "Maxton              1\n",
       "Exploit             1\n",
       "Sinski              1\n",
       "CZ                  1\n",
       "Lexmoto             1\n",
       "Jamuna              1\n",
       "Name: brand, dtype: int64"
      ]
     },
     "execution_count": 397,
     "metadata": {},
     "output_type": "execute_result"
    }
   ],
   "source": [
    "brands = df['brand'].value_counts()\n",
    "bike_brands_less_than_10 = brands[brands<=10]\n",
    "bike_brands_less_than_10"
   ]
  },
  {
   "cell_type": "code",
   "execution_count": 398,
   "id": "8385ca8b",
   "metadata": {},
   "outputs": [
    {
     "name": "stdout",
     "output_type": "stream",
     "text": [
      "Other brands total 105\n"
     ]
    }
   ],
   "source": [
    "print(\"Other brands total\",sum(bike_brands_less_than_10))"
   ]
  },
  {
   "cell_type": "code",
   "execution_count": 399,
   "id": "bd903e08",
   "metadata": {},
   "outputs": [
    {
     "data": {
      "text/plain": [
       "Index(['Dayang Runner', 'Haojue', 'Singer', 'Victor-R', 'Freedom', 'Aprilia',\n",
       "       'Xingfu', 'Zaara', 'Zongshen', 'Emma', 'Benelli', 'SYM', 'Pegasus',\n",
       "       'KTM', 'Beetle Bolt', 'ZNEN', 'Freedom Runner', 'Power', 'Taro',\n",
       "       'Hyosung', 'Jialing', 'Green Tiger', 'PHP', 'Haojin', 'Butterfly',\n",
       "       'Kinlon', 'Harley-Davidson', 'Vespa', 'Maxton', 'Exploit', 'Sinski',\n",
       "       'CZ', 'Lexmoto', 'Jamuna'],\n",
       "      dtype='object')"
      ]
     },
     "execution_count": 399,
     "metadata": {},
     "output_type": "execute_result"
    }
   ],
   "source": [
    "others = bike_brands_less_than_10.keys()\n",
    "others"
   ]
  },
  {
   "cell_type": "code",
   "execution_count": 400,
   "id": "0bdb5d23",
   "metadata": {},
   "outputs": [
    {
     "data": {
      "image/png": "[encoded data removed]",
      "text/plain": [
       "<Figure size 432x288 with 1 Axes>"
      ]
     },
     "metadata": {
      "needs_background": "light"
     },
     "output_type": "display_data"
    }
   ],
   "source": [
    "df['brand'].replace(others,\"Others\",inplace=True)\n",
    "df['brand'].value_counts().plot(kind=\"barh\")\n",
    "plt.gca().invert_yaxis()\n",
    "plt.show()"
   ]
  },
  {
   "cell_type": "markdown",
   "id": "2e9c724b",
   "metadata": {},
   "source": [
    "## Make bike Model = 'Other model' Which element is less than 10"
   ]
  },
  {
   "cell_type": "code",
   "execution_count": 276,
   "id": "6c5ef7d6",
   "metadata": {},
   "outputs": [
    {
     "data": {
      "text/plain": [
       "Pulsar           262\n",
       "Apache RTR       214\n",
       "Other Model      168\n",
       "Gixxer           143\n",
       "Discover         116\n",
       "                ... \n",
       "SXL 125            1\n",
       "Magnet 100         1\n",
       "Starcity Plus      1\n",
       "K Light 150        1\n",
       "Arro               1\n",
       "Name: model, Length: 153, dtype: int64"
      ]
     },
     "execution_count": 276,
     "metadata": {},
     "output_type": "execute_result"
    }
   ],
   "source": [
    "df['model'].value_counts()"
   ]
  },
  {
   "cell_type": "code",
   "execution_count": 277,
   "id": "51311b80",
   "metadata": {},
   "outputs": [
    {
     "data": {
      "image/png": "[encoded data removed]",
      "text/plain": [
       "<Figure size 432x288 with 1 Axes>"
      ]
     },
     "metadata": {
      "needs_background": "light"
     },
     "output_type": "display_data"
    }
   ],
   "source": [
    "df['model'].value_counts().plot(kind=\"barh\")\n",
    "plt.gca().invert_yaxis()\n",
    "plt.show()"
   ]
  },
  {
   "cell_type": "code",
   "execution_count": 278,
   "id": "0b4ab5a6",
   "metadata": {},
   "outputs": [
    {
     "data": {
      "text/plain": [
       "MT 15            10\n",
       "Radeon 110       10\n",
       "Passion          10\n",
       "CBZ Xtrem        10\n",
       "Bullet           10\n",
       "                 ..\n",
       "SXL 125           1\n",
       "Magnet 100        1\n",
       "Starcity Plus     1\n",
       "K Light 150       1\n",
       "Arro              1\n",
       "Name: model, Length: 119, dtype: int64"
      ]
     },
     "execution_count": 278,
     "metadata": {},
     "output_type": "execute_result"
    }
   ],
   "source": [
    "model = df['model'].value_counts()\n",
    "bike_model_less_than_10 = model[model<=10]\n",
    "bike_model_less_than_10"
   ]
  },
  {
   "cell_type": "code",
   "execution_count": 279,
   "id": "369d354a",
   "metadata": {},
   "outputs": [
    {
     "name": "stdout",
     "output_type": "stream",
     "text": [
      "Other brands total 366\n"
     ]
    }
   ],
   "source": [
    "print(\"Other brands total\",sum(bike_model_less_than_10))"
   ]
  },
  {
   "cell_type": "code",
   "execution_count": 280,
   "id": "b7a5b847",
   "metadata": {},
   "outputs": [
    {
     "data": {
      "text/plain": [
       "Index(['MT 15', 'Radeon 110', 'Passion', 'CBZ Xtrem', 'Bullet', 'Rapido',\n",
       "       'Freedom', 'Cruize', 'KPR', 'Shine',\n",
       "       ...\n",
       "       'Aspire', 'DY100', 'Merkaba', 'Ray', 'CG 125', 'SXL 125', 'Magnet 100',\n",
       "       'Starcity Plus', 'K Light 150', 'Arro'],\n",
       "      dtype='object', length=119)"
      ]
     },
     "execution_count": 280,
     "metadata": {},
     "output_type": "execute_result"
    }
   ],
   "source": [
    "others = bike_model_less_than_10.keys()\n",
    "others"
   ]
  },
  {
   "cell_type": "code",
   "execution_count": 281,
   "id": "49c415fb",
   "metadata": {},
   "outputs": [
    {
     "data": {
      "image/png": "[encoded data removed]",
      "text/plain": [
       "<Figure size 432x288 with 1 Axes>"
      ]
     },
     "metadata": {
      "needs_background": "light"
     },
     "output_type": "display_data"
    }
   ],
   "source": [
    "df['model'].replace(others,\"Other Model\",inplace=True)\n",
    "df['model'].value_counts().plot(kind=\"barh\")\n",
    "plt.gca().invert_yaxis()\n",
    "plt.show()"
   ]
  },
  {
   "cell_type": "code",
   "execution_count": 350,
   "id": "6126efd8",
   "metadata": {},
   "outputs": [
    {
     "data": {
      "text/html": [
       "<div>\n",
       "<style scoped>\n",
       "    .dataframe tbody tr th:only-of-type {\n",
       "        vertical-align: middle;\n",
       "    }\n",
       "\n",
       "    .dataframe tbody tr th {\n",
       "        vertical-align: top;\n",
       "    }\n",
       "\n",
       "    .dataframe thead th {\n",
       "        text-align: right;\n",
       "    }\n",
       "</style>\n",
       "<table border=\"1\" class=\"dataframe\">\n",
       "  <thead>\n",
       "    <tr style=\"text-align: right;\">\n",
       "      <th></th>\n",
       "      <th>brand</th>\n",
       "      <th>model</th>\n",
       "      <th>Year of Manufacture</th>\n",
       "      <th>Engine capacity</th>\n",
       "      <th>Kilometers run</th>\n",
       "      <th>price</th>\n",
       "    </tr>\n",
       "  </thead>\n",
       "  <tbody>\n",
       "    <tr>\n",
       "      <th>0</th>\n",
       "      <td>Aprilia</td>\n",
       "      <td>GPR 150</td>\n",
       "      <td>2021</td>\n",
       "      <td>150</td>\n",
       "      <td>2800</td>\n",
       "      <td>197000</td>\n",
       "    </tr>\n",
       "    <tr>\n",
       "      <th>1</th>\n",
       "      <td>Bajaj</td>\n",
       "      <td>Aspire</td>\n",
       "      <td>2017</td>\n",
       "      <td>150</td>\n",
       "      <td>22000</td>\n",
       "      <td>122000</td>\n",
       "    </tr>\n",
       "    <tr>\n",
       "      <th>2</th>\n",
       "      <td>Bajaj</td>\n",
       "      <td>CT 100</td>\n",
       "      <td>2011</td>\n",
       "      <td>100</td>\n",
       "      <td>26759</td>\n",
       "      <td>65000</td>\n",
       "    </tr>\n",
       "    <tr>\n",
       "      <th>3</th>\n",
       "      <td>Bajaj</td>\n",
       "      <td>Discover</td>\n",
       "      <td>2017</td>\n",
       "      <td>100</td>\n",
       "      <td>22500</td>\n",
       "      <td>37000</td>\n",
       "    </tr>\n",
       "    <tr>\n",
       "      <th>4</th>\n",
       "      <td>Bajaj</td>\n",
       "      <td>Discover</td>\n",
       "      <td>2015</td>\n",
       "      <td>100</td>\n",
       "      <td>33000</td>\n",
       "      <td>58000</td>\n",
       "    </tr>\n",
       "  </tbody>\n",
       "</table>\n",
       "</div>"
      ],
      "text/plain": [
       "     brand     model  Year of Manufacture  Engine capacity  Kilometers run  \\\n",
       "0  Aprilia   GPR 150                 2021              150            2800   \n",
       "1    Bajaj    Aspire                 2017              150           22000   \n",
       "2    Bajaj    CT 100                 2011              100           26759   \n",
       "3    Bajaj  Discover                 2017              100           22500   \n",
       "4    Bajaj  Discover                 2015              100           33000   \n",
       "\n",
       "    price  \n",
       "0  197000  \n",
       "1  122000  \n",
       "2   65000  \n",
       "3   37000  \n",
       "4   58000  "
      ]
     },
     "execution_count": 350,
     "metadata": {},
     "output_type": "execute_result"
    }
   ],
   "source": [
    "df.head()"
   ]
  },
  {
   "cell_type": "markdown",
   "id": "1e1d75cc",
   "metadata": {},
   "source": [
    "## Combined The Brand and Model Column "
   ]
  },
  {
   "cell_type": "code",
   "execution_count": 401,
   "id": "87c75826",
   "metadata": {},
   "outputs": [],
   "source": [
    "df_new = df\n",
    "df_new['brand_model']=df['brand'].astype(str)+' '+df['model']"
   ]
  },
  {
   "cell_type": "code",
   "execution_count": 402,
   "id": "a2f7faa6",
   "metadata": {},
   "outputs": [
    {
     "data": {
      "text/html": [
       "<div>\n",
       "<style scoped>\n",
       "    .dataframe tbody tr th:only-of-type {\n",
       "        vertical-align: middle;\n",
       "    }\n",
       "\n",
       "    .dataframe tbody tr th {\n",
       "        vertical-align: top;\n",
       "    }\n",
       "\n",
       "    .dataframe thead th {\n",
       "        text-align: right;\n",
       "    }\n",
       "</style>\n",
       "<table border=\"1\" class=\"dataframe\">\n",
       "  <thead>\n",
       "    <tr style=\"text-align: right;\">\n",
       "      <th></th>\n",
       "      <th>brand</th>\n",
       "      <th>model</th>\n",
       "      <th>Year of Manufacture</th>\n",
       "      <th>Engine capacity</th>\n",
       "      <th>Kilometers run</th>\n",
       "      <th>price</th>\n",
       "      <th>brand_model</th>\n",
       "    </tr>\n",
       "  </thead>\n",
       "  <tbody>\n",
       "    <tr>\n",
       "      <th>0</th>\n",
       "      <td>Others</td>\n",
       "      <td>GPR 150</td>\n",
       "      <td>2021</td>\n",
       "      <td>150</td>\n",
       "      <td>2800</td>\n",
       "      <td>197000</td>\n",
       "      <td>Others GPR 150</td>\n",
       "    </tr>\n",
       "    <tr>\n",
       "      <th>1</th>\n",
       "      <td>Bajaj</td>\n",
       "      <td>Aspire</td>\n",
       "      <td>2017</td>\n",
       "      <td>150</td>\n",
       "      <td>22000</td>\n",
       "      <td>122000</td>\n",
       "      <td>Bajaj Aspire</td>\n",
       "    </tr>\n",
       "    <tr>\n",
       "      <th>2</th>\n",
       "      <td>Bajaj</td>\n",
       "      <td>CT 100</td>\n",
       "      <td>2011</td>\n",
       "      <td>100</td>\n",
       "      <td>26759</td>\n",
       "      <td>65000</td>\n",
       "      <td>Bajaj CT 100</td>\n",
       "    </tr>\n",
       "    <tr>\n",
       "      <th>3</th>\n",
       "      <td>Bajaj</td>\n",
       "      <td>Discover</td>\n",
       "      <td>2017</td>\n",
       "      <td>100</td>\n",
       "      <td>22500</td>\n",
       "      <td>37000</td>\n",
       "      <td>Bajaj Discover</td>\n",
       "    </tr>\n",
       "    <tr>\n",
       "      <th>4</th>\n",
       "      <td>Bajaj</td>\n",
       "      <td>Discover</td>\n",
       "      <td>2015</td>\n",
       "      <td>100</td>\n",
       "      <td>33000</td>\n",
       "      <td>58000</td>\n",
       "      <td>Bajaj Discover</td>\n",
       "    </tr>\n",
       "  </tbody>\n",
       "</table>\n",
       "</div>"
      ],
      "text/plain": [
       "    brand     model  Year of Manufacture  Engine capacity  Kilometers run  \\\n",
       "0  Others   GPR 150                 2021              150            2800   \n",
       "1   Bajaj    Aspire                 2017              150           22000   \n",
       "2   Bajaj    CT 100                 2011              100           26759   \n",
       "3   Bajaj  Discover                 2017              100           22500   \n",
       "4   Bajaj  Discover                 2015              100           33000   \n",
       "\n",
       "    price     brand_model  \n",
       "0  197000  Others GPR 150  \n",
       "1  122000    Bajaj Aspire  \n",
       "2   65000    Bajaj CT 100  \n",
       "3   37000  Bajaj Discover  \n",
       "4   58000  Bajaj Discover  "
      ]
     },
     "execution_count": 402,
     "metadata": {},
     "output_type": "execute_result"
    }
   ],
   "source": [
    "df_new.head()"
   ]
  },
  {
   "cell_type": "code",
   "execution_count": 403,
   "id": "8f26ad29",
   "metadata": {},
   "outputs": [],
   "source": [
    "df_new.drop(['brand','model'],axis=1,inplace=True)"
   ]
  },
  {
   "cell_type": "code",
   "execution_count": 404,
   "id": "efea2ac0",
   "metadata": {},
   "outputs": [
    {
     "data": {
      "text/html": [
       "<div>\n",
       "<style scoped>\n",
       "    .dataframe tbody tr th:only-of-type {\n",
       "        vertical-align: middle;\n",
       "    }\n",
       "\n",
       "    .dataframe tbody tr th {\n",
       "        vertical-align: top;\n",
       "    }\n",
       "\n",
       "    .dataframe thead th {\n",
       "        text-align: right;\n",
       "    }\n",
       "</style>\n",
       "<table border=\"1\" class=\"dataframe\">\n",
       "  <thead>\n",
       "    <tr style=\"text-align: right;\">\n",
       "      <th></th>\n",
       "      <th>Year of Manufacture</th>\n",
       "      <th>Engine capacity</th>\n",
       "      <th>Kilometers run</th>\n",
       "      <th>price</th>\n",
       "      <th>brand_model</th>\n",
       "    </tr>\n",
       "  </thead>\n",
       "  <tbody>\n",
       "    <tr>\n",
       "      <th>0</th>\n",
       "      <td>2021</td>\n",
       "      <td>150</td>\n",
       "      <td>2800</td>\n",
       "      <td>197000</td>\n",
       "      <td>Others GPR 150</td>\n",
       "    </tr>\n",
       "    <tr>\n",
       "      <th>1</th>\n",
       "      <td>2017</td>\n",
       "      <td>150</td>\n",
       "      <td>22000</td>\n",
       "      <td>122000</td>\n",
       "      <td>Bajaj Aspire</td>\n",
       "    </tr>\n",
       "    <tr>\n",
       "      <th>2</th>\n",
       "      <td>2011</td>\n",
       "      <td>100</td>\n",
       "      <td>26759</td>\n",
       "      <td>65000</td>\n",
       "      <td>Bajaj CT 100</td>\n",
       "    </tr>\n",
       "    <tr>\n",
       "      <th>3</th>\n",
       "      <td>2017</td>\n",
       "      <td>100</td>\n",
       "      <td>22500</td>\n",
       "      <td>37000</td>\n",
       "      <td>Bajaj Discover</td>\n",
       "    </tr>\n",
       "    <tr>\n",
       "      <th>4</th>\n",
       "      <td>2015</td>\n",
       "      <td>100</td>\n",
       "      <td>33000</td>\n",
       "      <td>58000</td>\n",
       "      <td>Bajaj Discover</td>\n",
       "    </tr>\n",
       "  </tbody>\n",
       "</table>\n",
       "</div>"
      ],
      "text/plain": [
       "   Year of Manufacture  Engine capacity  Kilometers run   price  \\\n",
       "0                 2021              150            2800  197000   \n",
       "1                 2017              150           22000  122000   \n",
       "2                 2011              100           26759   65000   \n",
       "3                 2017              100           22500   37000   \n",
       "4                 2015              100           33000   58000   \n",
       "\n",
       "      brand_model  \n",
       "0  Others GPR 150  \n",
       "1    Bajaj Aspire  \n",
       "2    Bajaj CT 100  \n",
       "3  Bajaj Discover  \n",
       "4  Bajaj Discover  "
      ]
     },
     "execution_count": 404,
     "metadata": {},
     "output_type": "execute_result"
    }
   ],
   "source": [
    "df_new.head()"
   ]
  },
  {
   "cell_type": "markdown",
   "id": "b2e83313",
   "metadata": {},
   "source": [
    "### Drop Some incorrect Data"
   ]
  },
  {
   "cell_type": "code",
   "execution_count": 405,
   "id": "58b0dc36",
   "metadata": {},
   "outputs": [],
   "source": [
    "df_filtered = df[(df['Engine capacity'] > 79) & (df['Engine capacity'] < 201)]"
   ]
  },
  {
   "cell_type": "code",
   "execution_count": 406,
   "id": "af46820e",
   "metadata": {
    "scrolled": true
   },
   "outputs": [
    {
     "data": {
      "text/html": [
       "<div>\n",
       "<style scoped>\n",
       "    .dataframe tbody tr th:only-of-type {\n",
       "        vertical-align: middle;\n",
       "    }\n",
       "\n",
       "    .dataframe tbody tr th {\n",
       "        vertical-align: top;\n",
       "    }\n",
       "\n",
       "    .dataframe thead th {\n",
       "        text-align: right;\n",
       "    }\n",
       "</style>\n",
       "<table border=\"1\" class=\"dataframe\">\n",
       "  <thead>\n",
       "    <tr style=\"text-align: right;\">\n",
       "      <th></th>\n",
       "      <th>Year of Manufacture</th>\n",
       "      <th>Engine capacity</th>\n",
       "      <th>Kilometers run</th>\n",
       "      <th>price</th>\n",
       "      <th>brand_model</th>\n",
       "    </tr>\n",
       "  </thead>\n",
       "  <tbody>\n",
       "    <tr>\n",
       "      <th>0</th>\n",
       "      <td>2021</td>\n",
       "      <td>150</td>\n",
       "      <td>2800</td>\n",
       "      <td>197000</td>\n",
       "      <td>Others GPR 150</td>\n",
       "    </tr>\n",
       "    <tr>\n",
       "      <th>1</th>\n",
       "      <td>2017</td>\n",
       "      <td>150</td>\n",
       "      <td>22000</td>\n",
       "      <td>122000</td>\n",
       "      <td>Bajaj Aspire</td>\n",
       "    </tr>\n",
       "    <tr>\n",
       "      <th>2</th>\n",
       "      <td>2011</td>\n",
       "      <td>100</td>\n",
       "      <td>26759</td>\n",
       "      <td>65000</td>\n",
       "      <td>Bajaj CT 100</td>\n",
       "    </tr>\n",
       "    <tr>\n",
       "      <th>3</th>\n",
       "      <td>2017</td>\n",
       "      <td>100</td>\n",
       "      <td>22500</td>\n",
       "      <td>37000</td>\n",
       "      <td>Bajaj Discover</td>\n",
       "    </tr>\n",
       "    <tr>\n",
       "      <th>4</th>\n",
       "      <td>2015</td>\n",
       "      <td>100</td>\n",
       "      <td>33000</td>\n",
       "      <td>58000</td>\n",
       "      <td>Bajaj Discover</td>\n",
       "    </tr>\n",
       "  </tbody>\n",
       "</table>\n",
       "</div>"
      ],
      "text/plain": [
       "   Year of Manufacture  Engine capacity  Kilometers run   price  \\\n",
       "0                 2021              150            2800  197000   \n",
       "1                 2017              150           22000  122000   \n",
       "2                 2011              100           26759   65000   \n",
       "3                 2017              100           22500   37000   \n",
       "4                 2015              100           33000   58000   \n",
       "\n",
       "      brand_model  \n",
       "0  Others GPR 150  \n",
       "1    Bajaj Aspire  \n",
       "2    Bajaj CT 100  \n",
       "3  Bajaj Discover  \n",
       "4  Bajaj Discover  "
      ]
     },
     "execution_count": 406,
     "metadata": {},
     "output_type": "execute_result"
    }
   ],
   "source": [
    "df_filtered.head()"
   ]
  },
  {
   "cell_type": "code",
   "execution_count": 407,
   "id": "bcbca1ae",
   "metadata": {},
   "outputs": [
    {
     "data": {
      "text/plain": [
       "((2063, 5), (2036, 5))"
      ]
     },
     "execution_count": 407,
     "metadata": {},
     "output_type": "execute_result"
    }
   ],
   "source": [
    "df.shape,df_filtered.shape"
   ]
  },
  {
   "cell_type": "code",
   "execution_count": 408,
   "id": "c0f43b93",
   "metadata": {},
   "outputs": [
    {
     "data": {
      "image/png": "[encoded data removed]",
      "text/plain": [
       "<Figure size 360x360 with 1 Axes>"
      ]
     },
     "metadata": {
      "needs_background": "light"
     },
     "output_type": "display_data"
    }
   ],
   "source": [
    "corr_heatmap(df,5)"
   ]
  },
  {
   "cell_type": "markdown",
   "id": "5e8fddbc",
   "metadata": {},
   "source": [
    "# Feature Engineering"
   ]
  },
  {
   "cell_type": "markdown",
   "id": "3383ad60",
   "metadata": {},
   "source": [
    "## One Hot Encoding"
   ]
  },
  {
   "cell_type": "code",
   "execution_count": 409,
   "id": "82fd69d8",
   "metadata": {
    "scrolled": false
   },
   "outputs": [
    {
     "data": {
      "text/html": [
       "<div>\n",
       "<style scoped>\n",
       "    .dataframe tbody tr th:only-of-type {\n",
       "        vertical-align: middle;\n",
       "    }\n",
       "\n",
       "    .dataframe tbody tr th {\n",
       "        vertical-align: top;\n",
       "    }\n",
       "\n",
       "    .dataframe thead th {\n",
       "        text-align: right;\n",
       "    }\n",
       "</style>\n",
       "<table border=\"1\" class=\"dataframe\">\n",
       "  <thead>\n",
       "    <tr style=\"text-align: right;\">\n",
       "      <th></th>\n",
       "      <th>brand_model_Bajaj Avenger 150 Street</th>\n",
       "      <th>brand_model_Bajaj Boxer</th>\n",
       "      <th>brand_model_Bajaj CT 100</th>\n",
       "      <th>brand_model_Bajaj Caliber</th>\n",
       "      <th>brand_model_Bajaj Chetak</th>\n",
       "      <th>brand_model_Bajaj Discover</th>\n",
       "      <th>brand_model_Bajaj Other Model</th>\n",
       "      <th>brand_model_Bajaj Platina</th>\n",
       "      <th>brand_model_Bajaj Pulsar</th>\n",
       "      <th>brand_model_Bajaj V15</th>\n",
       "      <th>...</th>\n",
       "      <th>brand_model_Yamaha M-SLAZ</th>\n",
       "      <th>brand_model_Yamaha MT 15</th>\n",
       "      <th>brand_model_Yamaha Other Model</th>\n",
       "      <th>brand_model_Yamaha RX</th>\n",
       "      <th>brand_model_Yamaha Ray</th>\n",
       "      <th>brand_model_Yamaha SZ RR</th>\n",
       "      <th>brand_model_Yamaha Saluto</th>\n",
       "      <th>brand_model_Yamaha Saluto 125</th>\n",
       "      <th>brand_model_Yamaha X Max R15</th>\n",
       "      <th>brand_model_Yamaha YZF R15</th>\n",
       "    </tr>\n",
       "  </thead>\n",
       "  <tbody>\n",
       "    <tr>\n",
       "      <th>1865</th>\n",
       "      <td>0</td>\n",
       "      <td>0</td>\n",
       "      <td>0</td>\n",
       "      <td>0</td>\n",
       "      <td>0</td>\n",
       "      <td>0</td>\n",
       "      <td>1</td>\n",
       "      <td>0</td>\n",
       "      <td>0</td>\n",
       "      <td>0</td>\n",
       "      <td>...</td>\n",
       "      <td>0</td>\n",
       "      <td>0</td>\n",
       "      <td>0</td>\n",
       "      <td>0</td>\n",
       "      <td>0</td>\n",
       "      <td>0</td>\n",
       "      <td>0</td>\n",
       "      <td>0</td>\n",
       "      <td>0</td>\n",
       "      <td>0</td>\n",
       "    </tr>\n",
       "    <tr>\n",
       "      <th>1775</th>\n",
       "      <td>0</td>\n",
       "      <td>0</td>\n",
       "      <td>0</td>\n",
       "      <td>0</td>\n",
       "      <td>0</td>\n",
       "      <td>0</td>\n",
       "      <td>0</td>\n",
       "      <td>0</td>\n",
       "      <td>0</td>\n",
       "      <td>0</td>\n",
       "      <td>...</td>\n",
       "      <td>0</td>\n",
       "      <td>0</td>\n",
       "      <td>0</td>\n",
       "      <td>0</td>\n",
       "      <td>0</td>\n",
       "      <td>0</td>\n",
       "      <td>0</td>\n",
       "      <td>0</td>\n",
       "      <td>0</td>\n",
       "      <td>0</td>\n",
       "    </tr>\n",
       "    <tr>\n",
       "      <th>174</th>\n",
       "      <td>0</td>\n",
       "      <td>0</td>\n",
       "      <td>0</td>\n",
       "      <td>0</td>\n",
       "      <td>0</td>\n",
       "      <td>0</td>\n",
       "      <td>0</td>\n",
       "      <td>0</td>\n",
       "      <td>0</td>\n",
       "      <td>0</td>\n",
       "      <td>...</td>\n",
       "      <td>0</td>\n",
       "      <td>0</td>\n",
       "      <td>0</td>\n",
       "      <td>0</td>\n",
       "      <td>0</td>\n",
       "      <td>0</td>\n",
       "      <td>0</td>\n",
       "      <td>0</td>\n",
       "      <td>0</td>\n",
       "      <td>0</td>\n",
       "    </tr>\n",
       "    <tr>\n",
       "      <th>635</th>\n",
       "      <td>0</td>\n",
       "      <td>0</td>\n",
       "      <td>0</td>\n",
       "      <td>0</td>\n",
       "      <td>0</td>\n",
       "      <td>0</td>\n",
       "      <td>0</td>\n",
       "      <td>0</td>\n",
       "      <td>0</td>\n",
       "      <td>0</td>\n",
       "      <td>...</td>\n",
       "      <td>0</td>\n",
       "      <td>0</td>\n",
       "      <td>0</td>\n",
       "      <td>0</td>\n",
       "      <td>0</td>\n",
       "      <td>0</td>\n",
       "      <td>0</td>\n",
       "      <td>0</td>\n",
       "      <td>0</td>\n",
       "      <td>0</td>\n",
       "    </tr>\n",
       "    <tr>\n",
       "      <th>393</th>\n",
       "      <td>0</td>\n",
       "      <td>0</td>\n",
       "      <td>0</td>\n",
       "      <td>0</td>\n",
       "      <td>0</td>\n",
       "      <td>0</td>\n",
       "      <td>0</td>\n",
       "      <td>0</td>\n",
       "      <td>0</td>\n",
       "      <td>0</td>\n",
       "      <td>...</td>\n",
       "      <td>0</td>\n",
       "      <td>0</td>\n",
       "      <td>0</td>\n",
       "      <td>0</td>\n",
       "      <td>0</td>\n",
       "      <td>0</td>\n",
       "      <td>0</td>\n",
       "      <td>0</td>\n",
       "      <td>0</td>\n",
       "      <td>0</td>\n",
       "    </tr>\n",
       "    <tr>\n",
       "      <th>920</th>\n",
       "      <td>0</td>\n",
       "      <td>0</td>\n",
       "      <td>0</td>\n",
       "      <td>0</td>\n",
       "      <td>0</td>\n",
       "      <td>0</td>\n",
       "      <td>0</td>\n",
       "      <td>0</td>\n",
       "      <td>0</td>\n",
       "      <td>0</td>\n",
       "      <td>...</td>\n",
       "      <td>0</td>\n",
       "      <td>0</td>\n",
       "      <td>0</td>\n",
       "      <td>0</td>\n",
       "      <td>0</td>\n",
       "      <td>0</td>\n",
       "      <td>0</td>\n",
       "      <td>0</td>\n",
       "      <td>0</td>\n",
       "      <td>0</td>\n",
       "    </tr>\n",
       "    <tr>\n",
       "      <th>1608</th>\n",
       "      <td>0</td>\n",
       "      <td>0</td>\n",
       "      <td>0</td>\n",
       "      <td>0</td>\n",
       "      <td>0</td>\n",
       "      <td>0</td>\n",
       "      <td>0</td>\n",
       "      <td>0</td>\n",
       "      <td>1</td>\n",
       "      <td>0</td>\n",
       "      <td>...</td>\n",
       "      <td>0</td>\n",
       "      <td>0</td>\n",
       "      <td>0</td>\n",
       "      <td>0</td>\n",
       "      <td>0</td>\n",
       "      <td>0</td>\n",
       "      <td>0</td>\n",
       "      <td>0</td>\n",
       "      <td>0</td>\n",
       "      <td>0</td>\n",
       "    </tr>\n",
       "    <tr>\n",
       "      <th>1070</th>\n",
       "      <td>0</td>\n",
       "      <td>0</td>\n",
       "      <td>0</td>\n",
       "      <td>0</td>\n",
       "      <td>0</td>\n",
       "      <td>0</td>\n",
       "      <td>0</td>\n",
       "      <td>0</td>\n",
       "      <td>0</td>\n",
       "      <td>0</td>\n",
       "      <td>...</td>\n",
       "      <td>0</td>\n",
       "      <td>0</td>\n",
       "      <td>0</td>\n",
       "      <td>0</td>\n",
       "      <td>0</td>\n",
       "      <td>0</td>\n",
       "      <td>0</td>\n",
       "      <td>0</td>\n",
       "      <td>0</td>\n",
       "      <td>0</td>\n",
       "    </tr>\n",
       "    <tr>\n",
       "      <th>276</th>\n",
       "      <td>0</td>\n",
       "      <td>0</td>\n",
       "      <td>0</td>\n",
       "      <td>0</td>\n",
       "      <td>0</td>\n",
       "      <td>0</td>\n",
       "      <td>0</td>\n",
       "      <td>0</td>\n",
       "      <td>1</td>\n",
       "      <td>0</td>\n",
       "      <td>...</td>\n",
       "      <td>0</td>\n",
       "      <td>0</td>\n",
       "      <td>0</td>\n",
       "      <td>0</td>\n",
       "      <td>0</td>\n",
       "      <td>0</td>\n",
       "      <td>0</td>\n",
       "      <td>0</td>\n",
       "      <td>0</td>\n",
       "      <td>0</td>\n",
       "    </tr>\n",
       "    <tr>\n",
       "      <th>514</th>\n",
       "      <td>0</td>\n",
       "      <td>0</td>\n",
       "      <td>0</td>\n",
       "      <td>0</td>\n",
       "      <td>0</td>\n",
       "      <td>0</td>\n",
       "      <td>0</td>\n",
       "      <td>0</td>\n",
       "      <td>0</td>\n",
       "      <td>0</td>\n",
       "      <td>...</td>\n",
       "      <td>0</td>\n",
       "      <td>0</td>\n",
       "      <td>0</td>\n",
       "      <td>0</td>\n",
       "      <td>0</td>\n",
       "      <td>0</td>\n",
       "      <td>0</td>\n",
       "      <td>0</td>\n",
       "      <td>0</td>\n",
       "      <td>0</td>\n",
       "    </tr>\n",
       "  </tbody>\n",
       "</table>\n",
       "<p>10 rows × 171 columns</p>\n",
       "</div>"
      ],
      "text/plain": [
       "      brand_model_Bajaj Avenger 150 Street  brand_model_Bajaj Boxer  \\\n",
       "1865                                     0                        0   \n",
       "1775                                     0                        0   \n",
       "174                                      0                        0   \n",
       "635                                      0                        0   \n",
       "393                                      0                        0   \n",
       "920                                      0                        0   \n",
       "1608                                     0                        0   \n",
       "1070                                     0                        0   \n",
       "276                                      0                        0   \n",
       "514                                      0                        0   \n",
       "\n",
       "      brand_model_Bajaj CT 100  brand_model_Bajaj Caliber  \\\n",
       "1865                         0                          0   \n",
       "1775                         0                          0   \n",
       "174                          0                          0   \n",
       "635                          0                          0   \n",
       "393                          0                          0   \n",
       "920                          0                          0   \n",
       "1608                         0                          0   \n",
       "1070                         0                          0   \n",
       "276                          0                          0   \n",
       "514                          0                          0   \n",
       "\n",
       "      brand_model_Bajaj Chetak  brand_model_Bajaj Discover  \\\n",
       "1865                         0                           0   \n",
       "1775                         0                           0   \n",
       "174                          0                           0   \n",
       "635                          0                           0   \n",
       "393                          0                           0   \n",
       "920                          0                           0   \n",
       "1608                         0                           0   \n",
       "1070                         0                           0   \n",
       "276                          0                           0   \n",
       "514                          0                           0   \n",
       "\n",
       "      brand_model_Bajaj Other Model  brand_model_Bajaj Platina  \\\n",
       "1865                              1                          0   \n",
       "1775                              0                          0   \n",
       "174                               0                          0   \n",
       "635                               0                          0   \n",
       "393                               0                          0   \n",
       "920                               0                          0   \n",
       "1608                              0                          0   \n",
       "1070                              0                          0   \n",
       "276                               0                          0   \n",
       "514                               0                          0   \n",
       "\n",
       "      brand_model_Bajaj Pulsar  brand_model_Bajaj V15  ...  \\\n",
       "1865                         0                      0  ...   \n",
       "1775                         0                      0  ...   \n",
       "174                          0                      0  ...   \n",
       "635                          0                      0  ...   \n",
       "393                          0                      0  ...   \n",
       "920                          0                      0  ...   \n",
       "1608                         1                      0  ...   \n",
       "1070                         0                      0  ...   \n",
       "276                          1                      0  ...   \n",
       "514                          0                      0  ...   \n",
       "\n",
       "      brand_model_Yamaha M-SLAZ  brand_model_Yamaha MT 15  \\\n",
       "1865                          0                         0   \n",
       "1775                          0                         0   \n",
       "174                           0                         0   \n",
       "635                           0                         0   \n",
       "393                           0                         0   \n",
       "920                           0                         0   \n",
       "1608                          0                         0   \n",
       "1070                          0                         0   \n",
       "276                           0                         0   \n",
       "514                           0                         0   \n",
       "\n",
       "      brand_model_Yamaha Other Model  brand_model_Yamaha RX  \\\n",
       "1865                               0                      0   \n",
       "1775                               0                      0   \n",
       "174                                0                      0   \n",
       "635                                0                      0   \n",
       "393                                0                      0   \n",
       "920                                0                      0   \n",
       "1608                               0                      0   \n",
       "1070                               0                      0   \n",
       "276                                0                      0   \n",
       "514                                0                      0   \n",
       "\n",
       "      brand_model_Yamaha Ray  brand_model_Yamaha SZ RR  \\\n",
       "1865                       0                         0   \n",
       "1775                       0                         0   \n",
       "174                        0                         0   \n",
       "635                        0                         0   \n",
       "393                        0                         0   \n",
       "920                        0                         0   \n",
       "1608                       0                         0   \n",
       "1070                       0                         0   \n",
       "276                        0                         0   \n",
       "514                        0                         0   \n",
       "\n",
       "      brand_model_Yamaha Saluto  brand_model_Yamaha Saluto 125  \\\n",
       "1865                          0                              0   \n",
       "1775                          0                              0   \n",
       "174                           0                              0   \n",
       "635                           0                              0   \n",
       "393                           0                              0   \n",
       "920                           0                              0   \n",
       "1608                          0                              0   \n",
       "1070                          0                              0   \n",
       "276                           0                              0   \n",
       "514                           0                              0   \n",
       "\n",
       "      brand_model_Yamaha X Max R15  brand_model_Yamaha YZF R15  \n",
       "1865                             0                           0  \n",
       "1775                             0                           0  \n",
       "174                              0                           0  \n",
       "635                              0                           0  \n",
       "393                              0                           0  \n",
       "920                              0                           0  \n",
       "1608                             0                           0  \n",
       "1070                             0                           0  \n",
       "276                              0                           0  \n",
       "514                              0                           0  \n",
       "\n",
       "[10 rows x 171 columns]"
      ]
     },
     "execution_count": 409,
     "metadata": {},
     "output_type": "execute_result"
    }
   ],
   "source": [
    "cols_to_encode = ['brand_model']\n",
    "dummies = pd.get_dummies(df[cols_to_encode],drop_first=True)\n",
    "dummies.sample(10)"
   ]
  },
  {
   "cell_type": "markdown",
   "id": "b41135d5",
   "metadata": {},
   "source": [
    "### Feature Scaling"
   ]
  },
  {
   "cell_type": "code",
   "execution_count": 410,
   "id": "792f71c8",
   "metadata": {},
   "outputs": [],
   "source": [
    "cols_to_scale = ['Engine capacity','Kilometers run','Year of Manufacture']\n",
    "scale = MinMaxScaler()\n",
    "scalled = scale.fit_transform(df[cols_to_scale])"
   ]
  },
  {
   "cell_type": "code",
   "execution_count": 411,
   "id": "c0a086e0",
   "metadata": {},
   "outputs": [],
   "source": [
    "i = 0\n",
    "for col in cols_to_scale:\n",
    "    df[col] = scalled[:,i]\n",
    "    i += 1"
   ]
  },
  {
   "cell_type": "code",
   "execution_count": 412,
   "id": "79ea3096",
   "metadata": {},
   "outputs": [
    {
     "data": {
      "text/html": [
       "<div>\n",
       "<style scoped>\n",
       "    .dataframe tbody tr th:only-of-type {\n",
       "        vertical-align: middle;\n",
       "    }\n",
       "\n",
       "    .dataframe tbody tr th {\n",
       "        vertical-align: top;\n",
       "    }\n",
       "\n",
       "    .dataframe thead th {\n",
       "        text-align: right;\n",
       "    }\n",
       "</style>\n",
       "<table border=\"1\" class=\"dataframe\">\n",
       "  <thead>\n",
       "    <tr style=\"text-align: right;\">\n",
       "      <th></th>\n",
       "      <th>Year of Manufacture</th>\n",
       "      <th>Engine capacity</th>\n",
       "      <th>Kilometers run</th>\n",
       "      <th>price</th>\n",
       "      <th>brand_model</th>\n",
       "    </tr>\n",
       "  </thead>\n",
       "  <tbody>\n",
       "    <tr>\n",
       "      <th>0</th>\n",
       "      <td>0.960784</td>\n",
       "      <td>0.014803</td>\n",
       "      <td>0.002800</td>\n",
       "      <td>197000</td>\n",
       "      <td>Others GPR 150</td>\n",
       "    </tr>\n",
       "    <tr>\n",
       "      <th>1</th>\n",
       "      <td>0.882353</td>\n",
       "      <td>0.014803</td>\n",
       "      <td>0.022000</td>\n",
       "      <td>122000</td>\n",
       "      <td>Bajaj Aspire</td>\n",
       "    </tr>\n",
       "    <tr>\n",
       "      <th>2</th>\n",
       "      <td>0.764706</td>\n",
       "      <td>0.009802</td>\n",
       "      <td>0.026759</td>\n",
       "      <td>65000</td>\n",
       "      <td>Bajaj CT 100</td>\n",
       "    </tr>\n",
       "    <tr>\n",
       "      <th>3</th>\n",
       "      <td>0.882353</td>\n",
       "      <td>0.009802</td>\n",
       "      <td>0.022500</td>\n",
       "      <td>37000</td>\n",
       "      <td>Bajaj Discover</td>\n",
       "    </tr>\n",
       "    <tr>\n",
       "      <th>4</th>\n",
       "      <td>0.843137</td>\n",
       "      <td>0.009802</td>\n",
       "      <td>0.033000</td>\n",
       "      <td>58000</td>\n",
       "      <td>Bajaj Discover</td>\n",
       "    </tr>\n",
       "  </tbody>\n",
       "</table>\n",
       "</div>"
      ],
      "text/plain": [
       "   Year of Manufacture  Engine capacity  Kilometers run   price  \\\n",
       "0             0.960784         0.014803        0.002800  197000   \n",
       "1             0.882353         0.014803        0.022000  122000   \n",
       "2             0.764706         0.009802        0.026759   65000   \n",
       "3             0.882353         0.009802        0.022500   37000   \n",
       "4             0.843137         0.009802        0.033000   58000   \n",
       "\n",
       "      brand_model  \n",
       "0  Others GPR 150  \n",
       "1    Bajaj Aspire  \n",
       "2    Bajaj CT 100  \n",
       "3  Bajaj Discover  \n",
       "4  Bajaj Discover  "
      ]
     },
     "execution_count": 412,
     "metadata": {},
     "output_type": "execute_result"
    }
   ],
   "source": [
    "df.head()"
   ]
  },
  {
   "cell_type": "code",
   "execution_count": 413,
   "id": "232185e1",
   "metadata": {},
   "outputs": [
    {
     "data": {
      "text/html": [
       "<div>\n",
       "<style scoped>\n",
       "    .dataframe tbody tr th:only-of-type {\n",
       "        vertical-align: middle;\n",
       "    }\n",
       "\n",
       "    .dataframe tbody tr th {\n",
       "        vertical-align: top;\n",
       "    }\n",
       "\n",
       "    .dataframe thead th {\n",
       "        text-align: right;\n",
       "    }\n",
       "</style>\n",
       "<table border=\"1\" class=\"dataframe\">\n",
       "  <thead>\n",
       "    <tr style=\"text-align: right;\">\n",
       "      <th></th>\n",
       "      <th>Year of Manufacture</th>\n",
       "      <th>Engine capacity</th>\n",
       "      <th>Kilometers run</th>\n",
       "      <th>price</th>\n",
       "    </tr>\n",
       "  </thead>\n",
       "  <tbody>\n",
       "    <tr>\n",
       "      <th>0</th>\n",
       "      <td>0.960784</td>\n",
       "      <td>0.014803</td>\n",
       "      <td>0.002800</td>\n",
       "      <td>197000</td>\n",
       "    </tr>\n",
       "    <tr>\n",
       "      <th>1</th>\n",
       "      <td>0.882353</td>\n",
       "      <td>0.014803</td>\n",
       "      <td>0.022000</td>\n",
       "      <td>122000</td>\n",
       "    </tr>\n",
       "    <tr>\n",
       "      <th>2</th>\n",
       "      <td>0.764706</td>\n",
       "      <td>0.009802</td>\n",
       "      <td>0.026759</td>\n",
       "      <td>65000</td>\n",
       "    </tr>\n",
       "    <tr>\n",
       "      <th>3</th>\n",
       "      <td>0.882353</td>\n",
       "      <td>0.009802</td>\n",
       "      <td>0.022500</td>\n",
       "      <td>37000</td>\n",
       "    </tr>\n",
       "    <tr>\n",
       "      <th>4</th>\n",
       "      <td>0.843137</td>\n",
       "      <td>0.009802</td>\n",
       "      <td>0.033000</td>\n",
       "      <td>58000</td>\n",
       "    </tr>\n",
       "  </tbody>\n",
       "</table>\n",
       "</div>"
      ],
      "text/plain": [
       "   Year of Manufacture  Engine capacity  Kilometers run   price\n",
       "0             0.960784         0.014803        0.002800  197000\n",
       "1             0.882353         0.014803        0.022000  122000\n",
       "2             0.764706         0.009802        0.026759   65000\n",
       "3             0.882353         0.009802        0.022500   37000\n",
       "4             0.843137         0.009802        0.033000   58000"
      ]
     },
     "execution_count": 413,
     "metadata": {},
     "output_type": "execute_result"
    }
   ],
   "source": [
    "df.drop(cols_to_encode,axis=1,inplace=True)\n",
    "df.head()"
   ]
  },
  {
   "cell_type": "code",
   "execution_count": 414,
   "id": "7af1c399",
   "metadata": {},
   "outputs": [
    {
     "data": {
      "text/plain": [
       "(2063, 175)"
      ]
     },
     "execution_count": 414,
     "metadata": {},
     "output_type": "execute_result"
    }
   ],
   "source": [
    "new_df = pd.concat([dummies,df],axis=1)\n",
    "new_df.shape"
   ]
  },
  {
   "cell_type": "code",
   "execution_count": 415,
   "id": "22e69b78",
   "metadata": {},
   "outputs": [
    {
     "data": {
      "text/html": [
       "<div>\n",
       "<style scoped>\n",
       "    .dataframe tbody tr th:only-of-type {\n",
       "        vertical-align: middle;\n",
       "    }\n",
       "\n",
       "    .dataframe tbody tr th {\n",
       "        vertical-align: top;\n",
       "    }\n",
       "\n",
       "    .dataframe thead th {\n",
       "        text-align: right;\n",
       "    }\n",
       "</style>\n",
       "<table border=\"1\" class=\"dataframe\">\n",
       "  <thead>\n",
       "    <tr style=\"text-align: right;\">\n",
       "      <th></th>\n",
       "      <th>brand_model_Bajaj Avenger 150 Street</th>\n",
       "      <th>brand_model_Bajaj Boxer</th>\n",
       "      <th>brand_model_Bajaj CT 100</th>\n",
       "      <th>brand_model_Bajaj Caliber</th>\n",
       "      <th>brand_model_Bajaj Chetak</th>\n",
       "      <th>brand_model_Bajaj Discover</th>\n",
       "      <th>brand_model_Bajaj Other Model</th>\n",
       "      <th>brand_model_Bajaj Platina</th>\n",
       "      <th>brand_model_Bajaj Pulsar</th>\n",
       "      <th>brand_model_Bajaj V15</th>\n",
       "      <th>...</th>\n",
       "      <th>brand_model_Yamaha Ray</th>\n",
       "      <th>brand_model_Yamaha SZ RR</th>\n",
       "      <th>brand_model_Yamaha Saluto</th>\n",
       "      <th>brand_model_Yamaha Saluto 125</th>\n",
       "      <th>brand_model_Yamaha X Max R15</th>\n",
       "      <th>brand_model_Yamaha YZF R15</th>\n",
       "      <th>Year of Manufacture</th>\n",
       "      <th>Engine capacity</th>\n",
       "      <th>Kilometers run</th>\n",
       "      <th>price</th>\n",
       "    </tr>\n",
       "  </thead>\n",
       "  <tbody>\n",
       "    <tr>\n",
       "      <th>0</th>\n",
       "      <td>0</td>\n",
       "      <td>0</td>\n",
       "      <td>0</td>\n",
       "      <td>0</td>\n",
       "      <td>0</td>\n",
       "      <td>0</td>\n",
       "      <td>0</td>\n",
       "      <td>0</td>\n",
       "      <td>0</td>\n",
       "      <td>0</td>\n",
       "      <td>...</td>\n",
       "      <td>0</td>\n",
       "      <td>0</td>\n",
       "      <td>0</td>\n",
       "      <td>0</td>\n",
       "      <td>0</td>\n",
       "      <td>0</td>\n",
       "      <td>0.960784</td>\n",
       "      <td>0.014803</td>\n",
       "      <td>0.002800</td>\n",
       "      <td>197000</td>\n",
       "    </tr>\n",
       "    <tr>\n",
       "      <th>1</th>\n",
       "      <td>0</td>\n",
       "      <td>0</td>\n",
       "      <td>0</td>\n",
       "      <td>0</td>\n",
       "      <td>0</td>\n",
       "      <td>0</td>\n",
       "      <td>0</td>\n",
       "      <td>0</td>\n",
       "      <td>0</td>\n",
       "      <td>0</td>\n",
       "      <td>...</td>\n",
       "      <td>0</td>\n",
       "      <td>0</td>\n",
       "      <td>0</td>\n",
       "      <td>0</td>\n",
       "      <td>0</td>\n",
       "      <td>0</td>\n",
       "      <td>0.882353</td>\n",
       "      <td>0.014803</td>\n",
       "      <td>0.022000</td>\n",
       "      <td>122000</td>\n",
       "    </tr>\n",
       "    <tr>\n",
       "      <th>2</th>\n",
       "      <td>0</td>\n",
       "      <td>0</td>\n",
       "      <td>1</td>\n",
       "      <td>0</td>\n",
       "      <td>0</td>\n",
       "      <td>0</td>\n",
       "      <td>0</td>\n",
       "      <td>0</td>\n",
       "      <td>0</td>\n",
       "      <td>0</td>\n",
       "      <td>...</td>\n",
       "      <td>0</td>\n",
       "      <td>0</td>\n",
       "      <td>0</td>\n",
       "      <td>0</td>\n",
       "      <td>0</td>\n",
       "      <td>0</td>\n",
       "      <td>0.764706</td>\n",
       "      <td>0.009802</td>\n",
       "      <td>0.026759</td>\n",
       "      <td>65000</td>\n",
       "    </tr>\n",
       "    <tr>\n",
       "      <th>3</th>\n",
       "      <td>0</td>\n",
       "      <td>0</td>\n",
       "      <td>0</td>\n",
       "      <td>0</td>\n",
       "      <td>0</td>\n",
       "      <td>1</td>\n",
       "      <td>0</td>\n",
       "      <td>0</td>\n",
       "      <td>0</td>\n",
       "      <td>0</td>\n",
       "      <td>...</td>\n",
       "      <td>0</td>\n",
       "      <td>0</td>\n",
       "      <td>0</td>\n",
       "      <td>0</td>\n",
       "      <td>0</td>\n",
       "      <td>0</td>\n",
       "      <td>0.882353</td>\n",
       "      <td>0.009802</td>\n",
       "      <td>0.022500</td>\n",
       "      <td>37000</td>\n",
       "    </tr>\n",
       "    <tr>\n",
       "      <th>4</th>\n",
       "      <td>0</td>\n",
       "      <td>0</td>\n",
       "      <td>0</td>\n",
       "      <td>0</td>\n",
       "      <td>0</td>\n",
       "      <td>1</td>\n",
       "      <td>0</td>\n",
       "      <td>0</td>\n",
       "      <td>0</td>\n",
       "      <td>0</td>\n",
       "      <td>...</td>\n",
       "      <td>0</td>\n",
       "      <td>0</td>\n",
       "      <td>0</td>\n",
       "      <td>0</td>\n",
       "      <td>0</td>\n",
       "      <td>0</td>\n",
       "      <td>0.843137</td>\n",
       "      <td>0.009802</td>\n",
       "      <td>0.033000</td>\n",
       "      <td>58000</td>\n",
       "    </tr>\n",
       "  </tbody>\n",
       "</table>\n",
       "<p>5 rows × 175 columns</p>\n",
       "</div>"
      ],
      "text/plain": [
       "   brand_model_Bajaj Avenger 150 Street  brand_model_Bajaj Boxer  \\\n",
       "0                                     0                        0   \n",
       "1                                     0                        0   \n",
       "2                                     0                        0   \n",
       "3                                     0                        0   \n",
       "4                                     0                        0   \n",
       "\n",
       "   brand_model_Bajaj CT 100  brand_model_Bajaj Caliber  \\\n",
       "0                         0                          0   \n",
       "1                         0                          0   \n",
       "2                         1                          0   \n",
       "3                         0                          0   \n",
       "4                         0                          0   \n",
       "\n",
       "   brand_model_Bajaj Chetak  brand_model_Bajaj Discover  \\\n",
       "0                         0                           0   \n",
       "1                         0                           0   \n",
       "2                         0                           0   \n",
       "3                         0                           1   \n",
       "4                         0                           1   \n",
       "\n",
       "   brand_model_Bajaj Other Model  brand_model_Bajaj Platina  \\\n",
       "0                              0                          0   \n",
       "1                              0                          0   \n",
       "2                              0                          0   \n",
       "3                              0                          0   \n",
       "4                              0                          0   \n",
       "\n",
       "   brand_model_Bajaj Pulsar  brand_model_Bajaj V15  ...  \\\n",
       "0                         0                      0  ...   \n",
       "1                         0                      0  ...   \n",
       "2                         0                      0  ...   \n",
       "3                         0                      0  ...   \n",
       "4                         0                      0  ...   \n",
       "\n",
       "   brand_model_Yamaha Ray  brand_model_Yamaha SZ RR  \\\n",
       "0                       0                         0   \n",
       "1                       0                         0   \n",
       "2                       0                         0   \n",
       "3                       0                         0   \n",
       "4                       0                         0   \n",
       "\n",
       "   brand_model_Yamaha Saluto  brand_model_Yamaha Saluto 125  \\\n",
       "0                          0                              0   \n",
       "1                          0                              0   \n",
       "2                          0                              0   \n",
       "3                          0                              0   \n",
       "4                          0                              0   \n",
       "\n",
       "   brand_model_Yamaha X Max R15  brand_model_Yamaha YZF R15  \\\n",
       "0                             0                           0   \n",
       "1                             0                           0   \n",
       "2                             0                           0   \n",
       "3                             0                           0   \n",
       "4                             0                           0   \n",
       "\n",
       "   Year of Manufacture  Engine capacity  Kilometers run   price  \n",
       "0             0.960784         0.014803        0.002800  197000  \n",
       "1             0.882353         0.014803        0.022000  122000  \n",
       "2             0.764706         0.009802        0.026759   65000  \n",
       "3             0.882353         0.009802        0.022500   37000  \n",
       "4             0.843137         0.009802        0.033000   58000  \n",
       "\n",
       "[5 rows x 175 columns]"
      ]
     },
     "execution_count": 415,
     "metadata": {},
     "output_type": "execute_result"
    }
   ],
   "source": [
    "new_df.head()"
   ]
  },
  {
   "cell_type": "code",
   "execution_count": 416,
   "id": "a06750c1",
   "metadata": {},
   "outputs": [
    {
     "data": {
      "text/plain": [
       "0"
      ]
     },
     "execution_count": 416,
     "metadata": {},
     "output_type": "execute_result"
    }
   ],
   "source": [
    "sum(new_df.isna().sum())"
   ]
  },
  {
   "cell_type": "markdown",
   "id": "9bbc2d22",
   "metadata": {},
   "source": [
    "# Splitting and Training data"
   ]
  },
  {
   "cell_type": "code",
   "execution_count": 417,
   "id": "7cf6f4b9",
   "metadata": {},
   "outputs": [
    {
     "data": {
      "text/plain": [
       "((2063, 174), (2063,))"
      ]
     },
     "execution_count": 417,
     "metadata": {},
     "output_type": "execute_result"
    }
   ],
   "source": [
    "x ,y = new_df.drop(['price'],axis=1), new_df['price']\n",
    "x.shape, y.shape"
   ]
  },
  {
   "cell_type": "code",
   "execution_count": 418,
   "id": "ab9ed316",
   "metadata": {},
   "outputs": [],
   "source": [
    "x_train, x_test, y_train, y_test = train_test_split(x, y, test_size=0.3)"
   ]
  },
  {
   "cell_type": "code",
   "execution_count": 419,
   "id": "9b315626",
   "metadata": {},
   "outputs": [
    {
     "data": {
      "text/plain": [
       "((1444, 174), (619, 174))"
      ]
     },
     "execution_count": 419,
     "metadata": {},
     "output_type": "execute_result"
    }
   ],
   "source": [
    "x_train.shape, x_test.shape"
   ]
  },
  {
   "cell_type": "code",
   "execution_count": 420,
   "id": "337f6702",
   "metadata": {},
   "outputs": [
    {
     "data": {
      "text/plain": [
       "((1444,), (619,))"
      ]
     },
     "execution_count": 420,
     "metadata": {},
     "output_type": "execute_result"
    }
   ],
   "source": [
    "y_train.shape, y_test.shape"
   ]
  },
  {
   "cell_type": "markdown",
   "id": "6bbf20e2",
   "metadata": {},
   "source": [
    "# Model Building and predictions"
   ]
  },
  {
   "cell_type": "markdown",
   "id": "75287765",
   "metadata": {},
   "source": [
    "### KNeighborsRegressor"
   ]
  },
  {
   "cell_type": "code",
   "execution_count": 468,
   "id": "f2ea2e55",
   "metadata": {},
   "outputs": [
    {
     "name": "stdout",
     "output_type": "stream",
     "text": [
      "Test Accuracy =  0.882311\n",
      "Train Accuracy =  0.951297\n",
      "MAE =  17808.093700\n",
      "MSE =  793342730.360258\n",
      "RMSE=  28166.340379\n",
      "R2 =  0.882311\n"
     ]
    }
   ],
   "source": [
    "import sklearn.metrics as metrics\n",
    "\n",
    "knn = KNeighborsRegressor(n_neighbors = 2)\n",
    "knn.fit(x_train, y_train)\n",
    "print(\"Test Accuracy =  %f\"% knn.score(x_test,y_test))\n",
    "print(\"Train Accuracy =  %f\"% knn.score(x_train,y_train))\n",
    "\n",
    "predicted = knn.predict(x_test)\n",
    "mae = metrics.mean_absolute_error(y_test, predicted)\n",
    "mse = metrics.mean_squared_error(y_test, predicted)\n",
    "rmse = np.sqrt(mse) #mse**(0.5)  \n",
    "r2 = metrics.r2_score(y_test, predicted)\n",
    "\n",
    "print(\"MAE =  %f\"% mae)\n",
    "print(\"MSE =  %f\"% mse)\n",
    "print(\"RMSE=  %f\"% rmse)\n",
    "print(\"R2 =  %f\"% r2)"
   ]
  },
  {
   "cell_type": "markdown",
   "id": "a949b8ec",
   "metadata": {},
   "source": [
    "### RandomForestRegressor"
   ]
  },
  {
   "cell_type": "code",
   "execution_count": 422,
   "id": "77022551",
   "metadata": {},
   "outputs": [
    {
     "data": {
      "text/plain": [
       "RandomForestRegressor()"
      ]
     },
     "execution_count": 422,
     "metadata": {},
     "output_type": "execute_result"
    }
   ],
   "source": [
    "rfr_model = RandomForestRegressor()\n",
    "rfr_model.fit(x_train, y_train)"
   ]
  },
  {
   "cell_type": "code",
   "execution_count": 469,
   "id": "45916e9f",
   "metadata": {},
   "outputs": [
    {
     "name": "stdout",
     "output_type": "stream",
     "text": [
      "Test Accuracy =  0.911384\n",
      "Train Accuracy =  0.983999 \n",
      "MAE =  16050.826172\n",
      "MSE =  597358868.143911\n",
      "RMSE=  24440.926090\n",
      "R2 =  0.911384\n"
     ]
    }
   ],
   "source": [
    "print(\"Test Accuracy =  %f\"% rfr_model.score(x_test, y_test))\n",
    "print(\"Train Accuracy =  %f \"% rfr_model.score(x_train, y_train))\n",
    "\n",
    "predicted = rfr_model.predict(x_test)\n",
    "mae = metrics.mean_absolute_error(y_test, predicted)\n",
    "mse = metrics.mean_squared_error(y_test, predicted)\n",
    "rmse = np.sqrt(mse) #mse**(0.5)  \n",
    "r2 = metrics.r2_score(y_test, predicted)\n",
    "\n",
    "print(\"MAE =  %f\"% mae)\n",
    "print(\"MSE =  %f\"% mse)\n",
    "print(\"RMSE=  %f\"% rmse)\n",
    "print(\"R2 =  %f\"% r2)\n"
   ]
  },
  {
   "cell_type": "markdown",
   "id": "fda38017",
   "metadata": {},
   "source": [
    "### XGB Bost"
   ]
  },
  {
   "cell_type": "code",
   "execution_count": 471,
   "id": "36692b70",
   "metadata": {},
   "outputs": [
    {
     "data": {
      "text/plain": [
       "XGBRegressor(base_score=0.5, booster='gbtree', colsample_bylevel=1,\n",
       "             colsample_bynode=1, colsample_bytree=1, enable_categorical=False,\n",
       "             gamma=0, gpu_id=-1, importance_type=None,\n",
       "             interaction_constraints='', learning_rate=0.300000012,\n",
       "             max_delta_step=0, max_depth=6, min_child_weight=1, missing=nan,\n",
       "             monotone_constraints='()', n_estimators=100, n_jobs=8,\n",
       "             num_parallel_tree=1, predictor='auto', random_state=0, reg_alpha=0,\n",
       "             reg_lambda=1, scale_pos_weight=1, subsample=1, tree_method='exact',\n",
       "             validate_parameters=1, verbosity=None)"
      ]
     },
     "execution_count": 471,
     "metadata": {},
     "output_type": "execute_result"
    }
   ],
   "source": [
    "xgb_model = XGBRegressor()\n",
    "xgb_model.fit(x_train, y_train)\n",
    "\n",
    "\n"
   ]
  },
  {
   "cell_type": "code",
   "execution_count": 472,
   "id": "4c916619",
   "metadata": {},
   "outputs": [
    {
     "name": "stdout",
     "output_type": "stream",
     "text": [
      "Test Accuracy =  0.929723\n",
      "Train Accuracy =  0.974226 \n",
      "MAE =  15287.873255\n",
      "MSE =  473737175.951764\n",
      "RMSE=  21765.504266\n",
      "R2 =  0.929723\n"
     ]
    }
   ],
   "source": [
    "print(\"Test Accuracy =  %f\"% xgb_model.score(x_test,y_test))\n",
    "print(\"Train Accuracy =  %f \"% xgb_model.score(x_train,y_train))\n",
    "\n",
    "predicted = xgb_model.predict(x_test)\n",
    "mae = metrics.mean_absolute_error(y_test, predicted)\n",
    "mse = metrics.mean_squared_error(y_test, predicted)\n",
    "rmse = np.sqrt(mse) #mse**(0.5)  \n",
    "r2 = metrics.r2_score(y_test, predicted)\n",
    "\n",
    "print(\"MAE =  %f\"% mae)\n",
    "print(\"MSE =  %f\"% mse)\n",
    "print(\"RMSE=  %f\"% rmse)\n",
    "print(\"R2 =  %f\"% r2)"
   ]
  },
  {
   "cell_type": "markdown",
   "id": "392590a8",
   "metadata": {},
   "source": [
    "### Lesso "
   ]
  },
  {
   "cell_type": "code",
   "execution_count": 426,
   "id": "863225a2",
   "metadata": {},
   "outputs": [
    {
     "name": "stderr",
     "output_type": "stream",
     "text": [
      "C:\\Users\\BS499\\anaconda3\\lib\\site-packages\\sklearn\\linear_model\\_coordinate_descent.py:530: ConvergenceWarning: Objective did not converge. You might want to increase the number of iterations. Duality gap: 94646098644.65015, tolerance: 997590656.590818\n",
      "  model = cd_fast.enet_coordinate_descent(\n"
     ]
    },
    {
     "data": {
      "text/plain": [
       "Lasso()"
      ]
     },
     "execution_count": 426,
     "metadata": {},
     "output_type": "execute_result"
    }
   ],
   "source": [
    "from sklearn.linear_model import Lasso\n",
    "lasso = Lasso(alpha=1.0)\n",
    "lasso.fit(x_train,y_train)"
   ]
  },
  {
   "cell_type": "code",
   "execution_count": 473,
   "id": "38b321a1",
   "metadata": {},
   "outputs": [
    {
     "name": "stdout",
     "output_type": "stream",
     "text": [
      "Test Accuracy =  0.809566\n",
      "Train Accuracy =  0.804011 \n",
      "MAE =  23695.730112\n",
      "MSE =  1283713681.917284\n",
      "RMSE=  35828.950332\n",
      "R2 =  0.809566\n"
     ]
    }
   ],
   "source": [
    "print(\"Test Accuracy =  %f\"% lasso.score(x_test,y_test))\n",
    "print(\"Train Accuracy =  %f \"% lasso.score(x_train,y_train))\n",
    "predicted = lasso.predict(x_test)\n",
    "mae = metrics.mean_absolute_error(y_test, predicted)\n",
    "mse = metrics.mean_squared_error(y_test, predicted)\n",
    "rmse = np.sqrt(mse) #mse**(0.5)  \n",
    "r2 = metrics.r2_score(y_test, predicted)\n",
    "\n",
    "print(\"MAE =  %f\"% mae)\n",
    "print(\"MSE =  %f\"% mse)\n",
    "print(\"RMSE=  %f\"% rmse)\n",
    "print(\"R2 =  %f\"% r2)"
   ]
  },
  {
   "cell_type": "markdown",
   "id": "94e2f105",
   "metadata": {},
   "source": [
    "## Cross Validiation"
   ]
  },
  {
   "cell_type": "code",
   "execution_count": 428,
   "id": "347525d9",
   "metadata": {},
   "outputs": [],
   "source": [
    "from sklearn.linear_model import HuberRegressor\n",
    "from sklearn.linear_model import RANSACRegressor\n",
    "from sklearn.linear_model import TheilSenRegressor\n",
    "models = [RandomForestRegressor(), XGBRegressor(), Lasso(alpha=1.0), KNeighborsRegressor(),LinearRegression(),HuberRegressor()]"
   ]
  },
  {
   "cell_type": "code",
   "execution_count": 429,
   "id": "5e43450d",
   "metadata": {},
   "outputs": [
    {
     "name": "stdout",
     "output_type": "stream",
     "text": [
      "Model: RandomForestRegressor()\n",
      "Cross Val Scores: [0.91662648 0.90624789 0.88876078 0.82934138 0.9171138 ]\n",
      "Mean score: 0.8916180637280112\n",
      "\n",
      "\n",
      "Model: XGBRegressor(base_score=None, booster=None, colsample_bylevel=None,\n",
      "             colsample_bynode=None, colsample_bytree=None,\n",
      "             enable_categorical=False, gamma=None, gpu_id=None,\n",
      "             importance_type=None, interaction_constraints=None,\n",
      "             learning_rate=None, max_delta_step=None, max_depth=None,\n",
      "             min_child_weight=None, missing=nan, monotone_constraints=None,\n",
      "             n_estimators=100, n_jobs=None, num_parallel_tree=None,\n",
      "             predictor=None, random_state=None, reg_alpha=None, reg_lambda=None,\n",
      "             scale_pos_weight=None, subsample=None, tree_method=None,\n",
      "             validate_parameters=None, verbosity=None)\n",
      "Cross Val Scores: [0.92615173 0.90915809 0.87648062 0.87817872 0.89610866]\n",
      "Mean score: 0.8972155650743809\n",
      "\n",
      "\n",
      "Model: Lasso()\n"
     ]
    },
    {
     "name": "stderr",
     "output_type": "stream",
     "text": [
      "C:\\Users\\BS499\\anaconda3\\lib\\site-packages\\sklearn\\linear_model\\_coordinate_descent.py:530: ConvergenceWarning: Objective did not converge. You might want to increase the number of iterations. Duality gap: 12161469267.127686, tolerance: 1098846456.6018853\n",
      "  model = cd_fast.enet_coordinate_descent(\n"
     ]
    },
    {
     "name": "stdout",
     "output_type": "stream",
     "text": [
      "Cross Val Scores: [0.8162431  0.78125662 0.78499333 0.73956063 0.69808083]\n",
      "Mean score: 0.7640269016124267\n",
      "\n",
      "\n",
      "Model: KNeighborsRegressor()\n",
      "Cross Val Scores: [0.85059855 0.85359678 0.85479941 0.85203411 0.76049813]\n",
      "Mean score: 0.8343053945856014\n",
      "\n",
      "\n",
      "Model: LinearRegression()\n",
      "Cross Val Scores: [-1.56495776e+24 -1.94630312e+23 -1.95648992e+24 -8.24786120e+23\n",
      " -1.70900421e+25]\n",
      "Mean score: -4.3261812360581516e+24\n",
      "\n",
      "\n",
      "Model: HuberRegressor()\n"
     ]
    },
    {
     "name": "stderr",
     "output_type": "stream",
     "text": [
      "C:\\Users\\BS499\\anaconda3\\lib\\site-packages\\sklearn\\linear_model\\_huber.py:296: ConvergenceWarning: lbfgs failed to converge (status=1):\n",
      "STOP: TOTAL NO. of ITERATIONS REACHED LIMIT.\n",
      "\n",
      "Increase the number of iterations (max_iter) or scale the data as shown in:\n",
      "    https://scikit-learn.org/stable/modules/preprocessing.html\n",
      "  self.n_iter_ = _check_optimize_result(\"lbfgs\", opt_res, self.max_iter)\n"
     ]
    },
    {
     "name": "stdout",
     "output_type": "stream",
     "text": [
      "Cross Val Scores: [0.69913115 0.62429724 0.69916286 0.68202149 0.62346455]\n",
      "Mean score: 0.665615456623542\n",
      "\n",
      "\n"
     ]
    }
   ],
   "source": [
    "mean_scores = []\n",
    "for model in models:\n",
    "    print(\"Model:\",model)\n",
    "    cv_scores = cross_val_score(model, x, y, cv=5)\n",
    "    print(\"Cross Val Scores:\",cv_scores)\n",
    "    print(\"Mean score:\", cv_scores.mean())\n",
    "    mean_scores.append(cv_scores.mean())\n",
    "    print('\\n')"
   ]
  },
  {
   "cell_type": "code",
   "execution_count": 325,
   "id": "3b3eb719",
   "metadata": {},
   "outputs": [],
   "source": [
    "mds = [\"RandomForestRegressor\",'XGBRegressor','Lasso', 'KNeighborsRegressor','LinearRegression', 'HuberRegressor']\n"
   ]
  },
  {
   "cell_type": "code",
   "execution_count": 255,
   "id": "17aa3fa9",
   "metadata": {},
   "outputs": [
    {
     "data": {
      "image/png": "[encoded data removed]",
      "text/plain": [
       "<Figure size 432x288 with 1 Axes>"
      ]
     },
     "metadata": {
      "needs_background": "light"
     },
     "output_type": "display_data"
    }
   ],
   "source": [
    "mean_df = pd.DataFrame({'Model':mds, 'Mean CVScore':mean_scores})\n",
    "sns.barplot(data=mean_df,y='Model', x='Mean CVScore')\n",
    "plt.show()"
   ]
  },
  {
   "cell_type": "markdown",
   "id": "fda65620",
   "metadata": {},
   "source": [
    "## Actual Vs Predicted"
   ]
  },
  {
   "cell_type": "code",
   "execution_count": 463,
   "id": "9b4464b4",
   "metadata": {},
   "outputs": [],
   "source": [
    "def actual_vs_predicted(model,data,y_true,title=None):\n",
    "    pred = model.predict(data)\n",
    "    apdf = pd.DataFrame({'Actual':y_true, 'Predicted':np.round(pred)})\n",
    "    plt.figure(figsize=(10, 10))\n",
    "    sns.scatterplot(data=apdf, x='Actual', y='Predicted') \n",
    "    plt.title(title)\n",
    "    plt.show()"
   ]
  },
  {
   "cell_type": "code",
   "execution_count": 464,
   "id": "d2346f39",
   "metadata": {},
   "outputs": [
    {
     "data": {
      "image/png": "[encoded data removed]",
      "text/plain": [
       "<Figure size 720x720 with 1 Axes>"
      ]
     },
     "metadata": {
      "needs_background": "light"
     },
     "output_type": "display_data"
    }
   ],
   "source": [
    "actual_vs_predicted(rfr_model,x_test, y_test, \"RandomForestRegressor Test data\")"
   ]
  },
  {
   "cell_type": "markdown",
   "id": "236defd8",
   "metadata": {},
   "source": [
    "## feaures importance"
   ]
  },
  {
   "cell_type": "code",
   "execution_count": 462,
   "id": "ac3f5cc7",
   "metadata": {},
   "outputs": [
    {
     "name": "stdout",
     "output_type": "stream",
     "text": [
      "Feature: 0, Score: 0.00099\n",
      "Feature: 1, Score: 0.00007\n",
      "Feature: 2, Score: 0.00014\n",
      "Feature: 3, Score: 0.00000\n",
      "Feature: 4, Score: 0.00000\n",
      "Feature: 5, Score: 0.00485\n",
      "Feature: 6, Score: 0.00024\n",
      "Feature: 7, Score: 0.00021\n",
      "Feature: 8, Score: 0.00333\n",
      "Feature: 9, Score: 0.00015\n",
      "Feature: 10, Score: 0.00001\n",
      "Feature: 11, Score: 0.00003\n",
      "Feature: 12, Score: 0.00004\n",
      "Feature: 13, Score: 0.00002\n",
      "Feature: 14, Score: 0.00000\n",
      "Feature: 15, Score: 0.00000\n",
      "Feature: 16, Score: 0.00036\n",
      "Feature: 17, Score: 0.00017\n",
      "Feature: 18, Score: 0.00000\n",
      "Feature: 19, Score: 0.00007\n",
      "Feature: 20, Score: 0.00000\n",
      "Feature: 21, Score: 0.00000\n",
      "Feature: 22, Score: 0.00000\n",
      "Feature: 23, Score: 0.00001\n",
      "Feature: 24, Score: 0.00111\n",
      "Feature: 25, Score: 0.00028\n",
      "Feature: 26, Score: 0.00005\n",
      "Feature: 27, Score: 0.00010\n",
      "Feature: 28, Score: 0.00018\n",
      "Feature: 29, Score: 0.00003\n",
      "Feature: 30, Score: 0.00003\n",
      "Feature: 31, Score: 0.00016\n",
      "Feature: 32, Score: 0.00008\n",
      "Feature: 33, Score: 0.00111\n",
      "Feature: 34, Score: 0.00017\n",
      "Feature: 35, Score: 0.00019\n",
      "Feature: 36, Score: 0.00009\n",
      "Feature: 37, Score: 0.00015\n",
      "Feature: 38, Score: 0.00007\n",
      "Feature: 39, Score: 0.00040\n",
      "Feature: 40, Score: 0.00015\n",
      "Feature: 41, Score: 0.00003\n",
      "Feature: 42, Score: 0.00001\n",
      "Feature: 43, Score: 0.04309\n",
      "Feature: 44, Score: 0.00002\n",
      "Feature: 45, Score: 0.00004\n",
      "Feature: 46, Score: 0.00010\n",
      "Feature: 47, Score: 0.00008\n",
      "Feature: 48, Score: 0.00001\n",
      "Feature: 49, Score: 0.00004\n",
      "Feature: 50, Score: 0.00101\n",
      "Feature: 51, Score: 0.00032\n",
      "Feature: 52, Score: 0.01784\n",
      "Feature: 53, Score: 0.00023\n",
      "Feature: 54, Score: 0.00020\n",
      "Feature: 55, Score: 0.00014\n",
      "Feature: 56, Score: 0.00002\n",
      "Feature: 57, Score: 0.00007\n",
      "Feature: 58, Score: 0.00003\n",
      "Feature: 59, Score: 0.00000\n",
      "Feature: 60, Score: 0.00001\n",
      "Feature: 61, Score: 0.00040\n",
      "Feature: 62, Score: 0.00002\n",
      "Feature: 63, Score: 0.00022\n",
      "Feature: 64, Score: 0.00001\n",
      "Feature: 65, Score: 0.00012\n",
      "Feature: 66, Score: 0.00015\n",
      "Feature: 67, Score: 0.00001\n",
      "Feature: 68, Score: 0.00019\n",
      "Feature: 69, Score: 0.00018\n",
      "Feature: 70, Score: 0.00005\n",
      "Feature: 71, Score: 0.00003\n",
      "Feature: 72, Score: 0.00014\n",
      "Feature: 73, Score: 0.00016\n",
      "Feature: 74, Score: 0.00000\n",
      "Feature: 75, Score: 0.00161\n",
      "Feature: 76, Score: 0.00003\n",
      "Feature: 77, Score: 0.00000\n",
      "Feature: 78, Score: 0.00000\n",
      "Feature: 79, Score: 0.00005\n",
      "Feature: 80, Score: 0.00002\n",
      "Feature: 81, Score: 0.00000\n",
      "Feature: 82, Score: 0.00000\n",
      "Feature: 83, Score: 0.00000\n",
      "Feature: 84, Score: 0.00007\n",
      "Feature: 85, Score: 0.00015\n",
      "Feature: 86, Score: 0.00009\n",
      "Feature: 87, Score: 0.00000\n",
      "Feature: 88, Score: 0.00000\n",
      "Feature: 89, Score: 0.00057\n",
      "Feature: 90, Score: 0.00159\n",
      "Feature: 91, Score: 0.00001\n",
      "Feature: 92, Score: 0.00003\n",
      "Feature: 93, Score: 0.00000\n",
      "Feature: 94, Score: 0.00001\n",
      "Feature: 95, Score: 0.00001\n",
      "Feature: 96, Score: 0.00000\n",
      "Feature: 97, Score: 0.00050\n",
      "Feature: 98, Score: 0.00000\n",
      "Feature: 99, Score: 0.00180\n",
      "Feature: 100, Score: 0.02366\n",
      "Feature: 101, Score: 0.00000\n",
      "Feature: 102, Score: 0.00085\n",
      "Feature: 103, Score: 0.00000\n",
      "Feature: 104, Score: 0.00006\n",
      "Feature: 105, Score: 0.00005\n",
      "Feature: 106, Score: 0.00004\n",
      "Feature: 107, Score: 0.00007\n",
      "Feature: 108, Score: 0.00000\n",
      "Feature: 109, Score: 0.00001\n",
      "Feature: 110, Score: 0.00006\n",
      "Feature: 111, Score: 0.00023\n",
      "Feature: 112, Score: 0.00091\n",
      "Feature: 113, Score: 0.00239\n",
      "Feature: 114, Score: 0.00001\n",
      "Feature: 115, Score: 0.00046\n",
      "Feature: 116, Score: 0.00000\n",
      "Feature: 117, Score: 0.00001\n",
      "Feature: 118, Score: 0.00002\n",
      "Feature: 119, Score: 0.00010\n",
      "Feature: 120, Score: 0.00005\n",
      "Feature: 121, Score: 0.00002\n",
      "Feature: 122, Score: 0.00001\n",
      "Feature: 123, Score: 0.00008\n",
      "Feature: 124, Score: 0.00002\n",
      "Feature: 125, Score: 0.00093\n",
      "Feature: 126, Score: 0.00043\n",
      "Feature: 127, Score: 0.00005\n",
      "Feature: 128, Score: 0.00033\n",
      "Feature: 129, Score: 0.04096\n",
      "Feature: 130, Score: 0.02392\n",
      "Feature: 131, Score: 0.00005\n",
      "Feature: 132, Score: 0.00296\n",
      "Feature: 133, Score: 0.00005\n",
      "Feature: 134, Score: 0.00456\n",
      "Feature: 135, Score: 0.00171\n",
      "Feature: 136, Score: 0.00001\n",
      "Feature: 137, Score: 0.00018\n",
      "Feature: 138, Score: 0.00022\n",
      "Feature: 139, Score: 0.00005\n",
      "Feature: 140, Score: 0.00001\n",
      "Feature: 141, Score: 0.00006\n",
      "Feature: 142, Score: 0.00002\n",
      "Feature: 143, Score: 0.00000\n",
      "Feature: 144, Score: 0.00015\n",
      "Feature: 145, Score: 0.00001\n",
      "Feature: 146, Score: 0.00001\n",
      "Feature: 147, Score: 0.00005\n",
      "Feature: 148, Score: 0.00007\n",
      "Feature: 149, Score: 0.00026\n",
      "Feature: 150, Score: 0.00013\n",
      "Feature: 151, Score: 0.00000\n",
      "Feature: 152, Score: 0.00002\n",
      "Feature: 153, Score: 0.00000\n",
      "Feature: 154, Score: 0.00001\n",
      "Feature: 155, Score: 0.00000\n",
      "Feature: 156, Score: 0.00050\n",
      "Feature: 157, Score: 0.00076\n",
      "Feature: 158, Score: 0.01202\n",
      "Feature: 159, Score: 0.01242\n",
      "Feature: 160, Score: 0.00001\n",
      "Feature: 161, Score: 0.00190\n",
      "Feature: 162, Score: 0.01369\n",
      "Feature: 163, Score: 0.03061\n",
      "Feature: 164, Score: 0.00059\n",
      "Feature: 165, Score: 0.00000\n",
      "Feature: 166, Score: 0.00000\n",
      "Feature: 167, Score: 0.00001\n",
      "Feature: 168, Score: 0.00006\n",
      "Feature: 169, Score: 0.05086\n",
      "Feature: 170, Score: 0.07700\n",
      "Feature: 171, Score: 0.14827\n",
      "Feature: 172, Score: 0.33087\n",
      "Feature: 173, Score: 0.12755\n"
     ]
    }
   ],
   "source": [
    "importance = rfr_model.feature_importances_\n",
    "# summarize feature importance\n",
    "for i,v in enumerate(importance):\n",
    "\tprint('Feature: %0d, Score: %.5f' % (i,v))\n",
    "# plot feature importance"
   ]
  },
  {
   "cell_type": "code",
   "execution_count": 3,
   "id": "ff3546e0",
   "metadata": {},
   "outputs": [
    {
     "data": {
      "image/png": "[encoded data removed]",
      "text/plain": [
       "<Figure size 432x288 with 1 Axes>"
      ]
     },
     "metadata": {
      "needs_background": "light"
     },
     "output_type": "display_data"
    }
   ],
   "source": [
    "arr = ['brand','Year of Manufacture','Engine capacity','Kilometers run']\n",
    "feat = [0.07700,0.14827,0.33087,0.12755]\n",
    "mean_df = pd.DataFrame({'Features':arr, 'Feature importance':feat})\n",
    "sns.barplot(data=mean_df,x='Features', y='Feature importance')\n",
    "plt.show()"
   ]
  },
  {
   "cell_type": "code",
   "execution_count": null,
   "id": "ae9106b7",
   "metadata": {},
   "outputs": [],
   "source": []
  }
 ],
 "metadata": {
  "kernelspec": {
   "display_name": "Python 3 (ipykernel)",
   "language": "python",
   "name": "python3"
  },
  "language_info": {
   "codemirror_mode": {
    "name": "ipython",
    "version": 3
   },
   "file_extension": ".py",
   "mimetype": "text/x-python",
   "name": "python",
   "nbconvert_exporter": "python",
   "pygments_lexer": "ipython3",
   "version": "3.9.7"
  }
 },
 "nbformat": 4,
 "nbformat_minor": 5
}
