{
 "cells": [
  {
   "cell_type": "markdown",
   "id": "ea663283",
   "metadata": {},
   "source": [
    "### Data Collection"
   ]
  },
  {
   "cell_type": "markdown",
   "id": "5aa9cd5f",
   "metadata": {},
   "source": [
    "#### Find Link "
   ]
  },
  {
   "cell_type": "code",
   "execution_count": 1,
   "id": "c68a0f4e",
   "metadata": {},
   "outputs": [],
   "source": [
    "import bs4 as bs\n",
    "import urllib.request\n",
    "\n",
    "import pandas as pd\n",
    "\n",
    "\n",
    "def init_soup(url):\n",
    "    hdr = {'User-Agent': 'Mozilla/5.0 (X11; Linux x86_64) AppleWebKit/537.11 (KHTML, like Gecko) Chrome/23.0.1271.64 Safari/537.11',\n",
    "           'Accept': 'text/html,application/xhtml+xml,application/xml;q=0.9,*/*;q=0.8',\n",
    "           'Accept-Charset': 'ISO-8859-1,utf-8;q=0.7,*;q=0.3',\n",
    "           'Accept-Encoding': 'none',\n",
    "           'Accept-Language': 'en-US,en;q=0.8',\n",
    "           'Connection': 'keep-alive'}\n",
    "    request=urllib.request.Request(url,None,hdr)\n",
    "    source = urllib.request.urlopen(request).read()\n",
    "    soup = bs.BeautifulSoup(source,'lxml')\n",
    "    return soup\n",
    "\n",
    "def store_url(url):\n",
    "    soup = init_soup(url)\n",
    "    links = soup.find_all(\"a\", {\"class\": \"gtm-ad-item\"})\n",
    "#     print(len(links))\n",
    "    list = []\n",
    "    for link in links:\n",
    "#         print(link['href'])\n",
    "        list.append(\"https://bikroy.com\"+link['href'])\n",
    "    return list\n",
    "\n",
    "\n",
    "def main():\n",
    "    all_url = []\n",
    "    for x in range(1,50):\n",
    "        new_urls = store_url(\"https://bikroy.com/en/ads/bangladesh/motorbikes-scooters?sort=date&order=desc&buy_now=0&urgent=0&page=\"+(str)(x))\n",
    "        all_url.extend(new_urls)\n",
    "#         print(x)\n",
    "    \n",
    "    \n",
    "    df = pd.DataFrame({'col':all_url})\n",
    "#     print (df)\n",
    "    df.to_csv('file.csv')\n",
    "    print(\"OK\")\n",
    "\n",
    "\n",
    "\n",
    "\n",
    "# main()"
   ]
  },
  {
   "cell_type": "markdown",
   "id": "ee558f50",
   "metadata": {},
   "source": [
    "## Collect data from Link "
   ]
  },
  {
   "cell_type": "code",
   "execution_count": 2,
   "id": "330d742f",
   "metadata": {},
   "outputs": [],
   "source": [
    "def store_data(url):\n",
    "    soup = init_soup(url)\n",
    "    \n",
    "    title = soup.find(\"h1\",{\"class\": \"title--3s1R8\"})\n",
    "    price = soup.find(\"div\",{\"class\": \"amount--3NTpl\"})\n",
    "    links = soup.find_all(\"div\", {\"class\": \"value--1lKHt\"})\n",
    "    list = []\n",
    "    list.append(url)\n",
    "    list.append(title.text)\n",
    "    \n",
    "    if(len(links)==7):\n",
    "        list.append(links[0].text)\n",
    "        list.append(links[1].text)\n",
    "        list.append(links[2].text)\n",
    "        list.append(\".\")\n",
    "        list.append(links[3].text)\n",
    "        list.append(links[4].text)\n",
    "        list.append(links[5].text)\n",
    "        list.append(links[6].text)\n",
    "        \n",
    "    elif(len(links)==8):\n",
    "        list.append(links[0].text)\n",
    "        list.append(links[1].text)\n",
    "        list.append(links[2].text)\n",
    "        list.append(links[3].text)\n",
    "        list.append(links[4].text)\n",
    "        list.append(links[5].text)\n",
    "        list.append(links[6].text)\n",
    "        list.append(links[7].text)\n",
    "    list.append(price.text)\n",
    "        \n",
    "    return list"
   ]
  },
  {
   "cell_type": "code",
   "execution_count": 3,
   "id": "b5b565f5",
   "metadata": {},
   "outputs": [
    {
     "data": {
      "text/plain": [
       "['https://bikroy.com/en/ad/bajaj-pulsar-2019-for-sale-dhaka-713',\n",
       " 'Bajaj Pulsar . 2019',\n",
       " 'Motorcycle',\n",
       " 'Bajaj',\n",
       " 'Pulsar',\n",
       " '.',\n",
       " '2019',\n",
       " 'Used',\n",
       " '150 cc',\n",
       " '4,100 km',\n",
       " 'Tk 167,500']"
      ]
     },
     "execution_count": 3,
     "metadata": {},
     "output_type": "execute_result"
    }
   ],
   "source": [
    "store_data(\"https://bikroy.com/en/ad/bajaj-pulsar-2019-for-sale-dhaka-713\")"
   ]
  },
  {
   "cell_type": "code",
   "execution_count": 5,
   "id": "b4f1b6ad",
   "metadata": {
    "scrolled": true
   },
   "outputs": [
    {
     "name": "stdout",
     "output_type": "stream",
     "text": [
      "1001 1002 1003 1004 1005 1006 1007 1008 1009 1010 1011 1012 1014 1015 1016 1017 1018 1019 1020 1021 1022 1023 1024 1025 1026 1027 1028 1029 1030 1031 1032 1033 1034 1035 1036 1037 1038 1039 1040 1041 1042 1043 1044 1045 1046 1047 1048 1049 1050 1051 1052 1053 1054 1055 1056 1057 1058 1059 1060 1061 1062 1063 1064 1065 1066 1067 1068 1069 1070 1071 1072 1073 1075 1076 1077 1078 1079 1080 1081 1083 1084 1085 1086 1087 1088 1089 1091 1092 1093 1094 1095 1096 1097 1099 "
     ]
    }
   ],
   "source": [
    "def save_data():\n",
    "    all_data = []\n",
    "    url_file = pd.read_csv(\"file.csv\")\n",
    "    error_file = open('error_file.txt','w')\n",
    "    url_list = url_file['col'].tolist()\n",
    "    cnt = 0\n",
    "    for url in range(1000,1100):\n",
    "        try:\n",
    "            lst = store_data(url_list[url])\n",
    "            all_data.append(lst)\n",
    "            print(url, end=' ')\n",
    "        except:\n",
    "            error_file.write(url_list[url]+\"\\n\")\n",
    "    error_file.close()\n",
    "    df = pd.DataFrame(all_data)\n",
    "    df.columns =['url','name','bike','brand','model','Trim / Edition','Year of Manufacture','Condition','Engine capacity','Kilometers run','price']\n",
    "    df.to_csv('dataset2.csv',index=False)\n",
    "        \n",
    "    \n",
    "\n",
    "save_data()"
   ]
  },
  {
   "cell_type": "markdown",
   "id": "b411910a",
   "metadata": {},
   "source": [
    "# Data Cleaning"
   ]
  },
  {
   "cell_type": "code",
   "execution_count": null,
   "id": "be42b810",
   "metadata": {},
   "outputs": [],
   "source": [
    "pd.read_csv('dataset.csv')"
   ]
  }
 ],
 "metadata": {
  "kernelspec": {
   "display_name": "Python 3 (ipykernel)",
   "language": "python",
   "name": "python3"
  },
  "language_info": {
   "codemirror_mode": {
    "name": "ipython",
    "version": 3
   },
   "file_extension": ".py",
   "mimetype": "text/x-python",
   "name": "python",
   "nbconvert_exporter": "python",
   "pygments_lexer": "ipython3",
   "version": "3.9.7"
  }
 },
 "nbformat": 4,
 "nbformat_minor": 5
}
