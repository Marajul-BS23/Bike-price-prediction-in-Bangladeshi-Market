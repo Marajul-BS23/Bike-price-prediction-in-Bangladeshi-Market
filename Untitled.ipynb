{
 "cells": [
  {
   "cell_type": "code",
   "execution_count": 1,
   "id": "5c03511c",
   "metadata": {},
   "outputs": [],
   "source": [
    "arr = ['brand','Year of Manufacture','Engine capacity','Kilometers run']"
   ]
  },
  {
   "cell_type": "code",
   "execution_count": null,
   "id": "add0b99e",
   "metadata": {},
   "outputs": [],
   "source": [
    "Feature: 170, Score: 0.07700\n",
    "Feature: 171, Score: 0.14827\n",
    "Feature: 172, Score: 0.33087\n",
    "Feature: 173, Score: 0.12755"
   ]
  },
  {
   "cell_type": "code",
   "execution_count": 5,
   "id": "34820e26",
   "metadata": {},
   "outputs": [],
   "source": [
    "from matplotlib import pyplot as plt\n",
    "import seaborn as sns\n",
    "import pandas as pd"
   ]
  },
  {
   "cell_type": "code",
   "execution_count": 6,
   "id": "c073d049",
   "metadata": {},
   "outputs": [],
   "source": [
    "feat = [0.07700,0.14827,0.33087,0.12755]"
   ]
  },
  {
   "cell_type": "code",
   "execution_count": 15,
   "id": "e7739389",
   "metadata": {},
   "outputs": [
    {
     "data": {
      "image/png": "[encoded data removed]",
      "text/plain": [
       "<Figure size 432x288 with 1 Axes>"
      ]
     },
     "metadata": {
      "needs_background": "light"
     },
     "output_type": "display_data"
    }
   ],
   "source": [
    "mean_df = pd.DataFrame({'Features':arr, 'Feature importance':feat})\n",
    "sns.barplot(data=mean_df,y='Features', x='Feature importance')\n",
    "plt.show()"
   ]
  },
  {
   "cell_type": "code",
   "execution_count": null,
   "id": "139c93ff",
   "metadata": {},
   "outputs": [],
   "source": []
  },
  {
   "cell_type": "code",
   "execution_count": null,
   "id": "bd8e1a20",
   "metadata": {},
   "outputs": [],
   "source": []
  }
 ],
 "metadata": {
  "kernelspec": {
   "display_name": "Python 3 (ipykernel)",
   "language": "python",
   "name": "python3"
  },
  "language_info": {
   "codemirror_mode": {
    "name": "ipython",
    "version": 3
   },
   "file_extension": ".py",
   "mimetype": "text/x-python",
   "name": "python",
   "nbconvert_exporter": "python",
   "pygments_lexer": "ipython3",
   "version": "3.9.7"
  }
 },
 "nbformat": 4,
 "nbformat_minor": 5
}
